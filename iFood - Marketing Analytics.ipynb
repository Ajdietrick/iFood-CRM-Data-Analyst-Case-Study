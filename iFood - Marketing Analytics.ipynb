{
 "cells": [
  {
   "cell_type": "markdown",
   "id": "7a39b3cc",
   "metadata": {},
   "source": [
    "# Marketing Analytics\n",
    "\n",
    "### by Andrew Dietrick\n",
    "\n",
    "“I’m a data analyst, and the Chief Marketing Officer has told me that previous marketing campaigns have not been as effective as they were expected to be. I need to analyze the data set to understand this problem and propose data-driven solutions.”\n",
    "\n",
    "### Analysis Process\n",
    "\n",
    "1. Assessing and Cleaning the data\n",
    "\n",
    "2. Exploratory Data Analysis\n",
    "\n",
    "3. Performing Statistical Analysis\n",
    "\n",
    "4. Data Visualization and Further Analysis\n",
    "\n",
    "5. Forming Data-Driven Solutions"
   ]
  },
  {
   "cell_type": "code",
   "execution_count": 102,
   "id": "1e55dbe8",
   "metadata": {},
   "outputs": [],
   "source": [
    "import pandas as pd\n",
    "import numpy as np\n",
    "import statsmodels.api as sm\n",
    "import seaborn as sns\n",
    "import matplotlib.pyplot as plt\n",
    "from datetime import date\n",
    "from scipy.cluster.hierarchy import dendrogram, linkage\n",
    "from sklearn.cluster import KMeans\n",
    "\n",
    "# Suppress warnings\n",
    "\n",
    "import warnings\n",
    "warnings.simplefilter('ignore')\n",
    "\n",
    "# Set up to view all the info of the columns\n",
    "\n",
    "pd.set_option('display.max_columns', None)\n",
    "pd.set_option('display.max_rows', None)"
   ]
  },
  {
   "cell_type": "markdown",
   "id": "daab98d2",
   "metadata": {},
   "source": [
    "## Section 01: Assessing and Cleaning the Data"
   ]
  },
  {
   "cell_type": "code",
   "execution_count": 103,
   "id": "5259e563",
   "metadata": {},
   "outputs": [
    {
     "data": {
      "text/html": [
       "<div>\n",
       "<style scoped>\n",
       "    .dataframe tbody tr th:only-of-type {\n",
       "        vertical-align: middle;\n",
       "    }\n",
       "\n",
       "    .dataframe tbody tr th {\n",
       "        vertical-align: top;\n",
       "    }\n",
       "\n",
       "    .dataframe thead th {\n",
       "        text-align: right;\n",
       "    }\n",
       "</style>\n",
       "<table border=\"1\" class=\"dataframe\">\n",
       "  <thead>\n",
       "    <tr style=\"text-align: right;\">\n",
       "      <th></th>\n",
       "      <th>ID</th>\n",
       "      <th>Year_Birth</th>\n",
       "      <th>Education</th>\n",
       "      <th>Marital_Status</th>\n",
       "      <th>Income</th>\n",
       "      <th>Kidhome</th>\n",
       "      <th>Teenhome</th>\n",
       "      <th>Dt_Customer</th>\n",
       "      <th>Recency</th>\n",
       "      <th>MntWines</th>\n",
       "      <th>MntFruits</th>\n",
       "      <th>MntMeatProducts</th>\n",
       "      <th>MntFishProducts</th>\n",
       "      <th>MntSweetProducts</th>\n",
       "      <th>MntGoldProds</th>\n",
       "      <th>NumDealsPurchases</th>\n",
       "      <th>NumWebPurchases</th>\n",
       "      <th>NumCatalogPurchases</th>\n",
       "      <th>NumStorePurchases</th>\n",
       "      <th>NumWebVisitsMonth</th>\n",
       "      <th>AcceptedCmp3</th>\n",
       "      <th>AcceptedCmp4</th>\n",
       "      <th>AcceptedCmp5</th>\n",
       "      <th>AcceptedCmp1</th>\n",
       "      <th>AcceptedCmp2</th>\n",
       "      <th>Complain</th>\n",
       "      <th>Z_CostContact</th>\n",
       "      <th>Z_Revenue</th>\n",
       "      <th>Response</th>\n",
       "    </tr>\n",
       "  </thead>\n",
       "  <tbody>\n",
       "    <tr>\n",
       "      <th>0</th>\n",
       "      <td>5524</td>\n",
       "      <td>1957</td>\n",
       "      <td>Graduation</td>\n",
       "      <td>Single</td>\n",
       "      <td>58138.0</td>\n",
       "      <td>0</td>\n",
       "      <td>0</td>\n",
       "      <td>2012-09-04</td>\n",
       "      <td>58</td>\n",
       "      <td>635</td>\n",
       "      <td>88</td>\n",
       "      <td>546</td>\n",
       "      <td>172</td>\n",
       "      <td>88</td>\n",
       "      <td>88</td>\n",
       "      <td>3</td>\n",
       "      <td>8</td>\n",
       "      <td>10</td>\n",
       "      <td>4</td>\n",
       "      <td>7</td>\n",
       "      <td>0</td>\n",
       "      <td>0</td>\n",
       "      <td>0</td>\n",
       "      <td>0</td>\n",
       "      <td>0</td>\n",
       "      <td>0</td>\n",
       "      <td>3</td>\n",
       "      <td>11</td>\n",
       "      <td>1</td>\n",
       "    </tr>\n",
       "    <tr>\n",
       "      <th>1</th>\n",
       "      <td>2174</td>\n",
       "      <td>1954</td>\n",
       "      <td>Graduation</td>\n",
       "      <td>Single</td>\n",
       "      <td>46344.0</td>\n",
       "      <td>1</td>\n",
       "      <td>1</td>\n",
       "      <td>2014-03-08</td>\n",
       "      <td>38</td>\n",
       "      <td>11</td>\n",
       "      <td>1</td>\n",
       "      <td>6</td>\n",
       "      <td>2</td>\n",
       "      <td>1</td>\n",
       "      <td>6</td>\n",
       "      <td>2</td>\n",
       "      <td>1</td>\n",
       "      <td>1</td>\n",
       "      <td>2</td>\n",
       "      <td>5</td>\n",
       "      <td>0</td>\n",
       "      <td>0</td>\n",
       "      <td>0</td>\n",
       "      <td>0</td>\n",
       "      <td>0</td>\n",
       "      <td>0</td>\n",
       "      <td>3</td>\n",
       "      <td>11</td>\n",
       "      <td>0</td>\n",
       "    </tr>\n",
       "    <tr>\n",
       "      <th>2</th>\n",
       "      <td>4141</td>\n",
       "      <td>1965</td>\n",
       "      <td>Graduation</td>\n",
       "      <td>Together</td>\n",
       "      <td>71613.0</td>\n",
       "      <td>0</td>\n",
       "      <td>0</td>\n",
       "      <td>2013-08-21</td>\n",
       "      <td>26</td>\n",
       "      <td>426</td>\n",
       "      <td>49</td>\n",
       "      <td>127</td>\n",
       "      <td>111</td>\n",
       "      <td>21</td>\n",
       "      <td>42</td>\n",
       "      <td>1</td>\n",
       "      <td>8</td>\n",
       "      <td>2</td>\n",
       "      <td>10</td>\n",
       "      <td>4</td>\n",
       "      <td>0</td>\n",
       "      <td>0</td>\n",
       "      <td>0</td>\n",
       "      <td>0</td>\n",
       "      <td>0</td>\n",
       "      <td>0</td>\n",
       "      <td>3</td>\n",
       "      <td>11</td>\n",
       "      <td>0</td>\n",
       "    </tr>\n",
       "    <tr>\n",
       "      <th>3</th>\n",
       "      <td>6182</td>\n",
       "      <td>1984</td>\n",
       "      <td>Graduation</td>\n",
       "      <td>Together</td>\n",
       "      <td>26646.0</td>\n",
       "      <td>1</td>\n",
       "      <td>0</td>\n",
       "      <td>2014-02-10</td>\n",
       "      <td>26</td>\n",
       "      <td>11</td>\n",
       "      <td>4</td>\n",
       "      <td>20</td>\n",
       "      <td>10</td>\n",
       "      <td>3</td>\n",
       "      <td>5</td>\n",
       "      <td>2</td>\n",
       "      <td>2</td>\n",
       "      <td>0</td>\n",
       "      <td>4</td>\n",
       "      <td>6</td>\n",
       "      <td>0</td>\n",
       "      <td>0</td>\n",
       "      <td>0</td>\n",
       "      <td>0</td>\n",
       "      <td>0</td>\n",
       "      <td>0</td>\n",
       "      <td>3</td>\n",
       "      <td>11</td>\n",
       "      <td>0</td>\n",
       "    </tr>\n",
       "    <tr>\n",
       "      <th>4</th>\n",
       "      <td>5324</td>\n",
       "      <td>1981</td>\n",
       "      <td>PhD</td>\n",
       "      <td>Married</td>\n",
       "      <td>58293.0</td>\n",
       "      <td>1</td>\n",
       "      <td>0</td>\n",
       "      <td>2014-01-19</td>\n",
       "      <td>94</td>\n",
       "      <td>173</td>\n",
       "      <td>43</td>\n",
       "      <td>118</td>\n",
       "      <td>46</td>\n",
       "      <td>27</td>\n",
       "      <td>15</td>\n",
       "      <td>5</td>\n",
       "      <td>5</td>\n",
       "      <td>3</td>\n",
       "      <td>6</td>\n",
       "      <td>5</td>\n",
       "      <td>0</td>\n",
       "      <td>0</td>\n",
       "      <td>0</td>\n",
       "      <td>0</td>\n",
       "      <td>0</td>\n",
       "      <td>0</td>\n",
       "      <td>3</td>\n",
       "      <td>11</td>\n",
       "      <td>0</td>\n",
       "    </tr>\n",
       "  </tbody>\n",
       "</table>\n",
       "</div>"
      ],
      "text/plain": [
       "     ID  Year_Birth   Education Marital_Status   Income  Kidhome  Teenhome  \\\n",
       "0  5524        1957  Graduation         Single  58138.0        0         0   \n",
       "1  2174        1954  Graduation         Single  46344.0        1         1   \n",
       "2  4141        1965  Graduation       Together  71613.0        0         0   \n",
       "3  6182        1984  Graduation       Together  26646.0        1         0   \n",
       "4  5324        1981         PhD        Married  58293.0        1         0   \n",
       "\n",
       "  Dt_Customer  Recency  MntWines  MntFruits  MntMeatProducts  MntFishProducts  \\\n",
       "0  2012-09-04       58       635         88              546              172   \n",
       "1  2014-03-08       38        11          1                6                2   \n",
       "2  2013-08-21       26       426         49              127              111   \n",
       "3  2014-02-10       26        11          4               20               10   \n",
       "4  2014-01-19       94       173         43              118               46   \n",
       "\n",
       "   MntSweetProducts  MntGoldProds  NumDealsPurchases  NumWebPurchases  \\\n",
       "0                88            88                  3                8   \n",
       "1                 1             6                  2                1   \n",
       "2                21            42                  1                8   \n",
       "3                 3             5                  2                2   \n",
       "4                27            15                  5                5   \n",
       "\n",
       "   NumCatalogPurchases  NumStorePurchases  NumWebVisitsMonth  AcceptedCmp3  \\\n",
       "0                   10                  4                  7             0   \n",
       "1                    1                  2                  5             0   \n",
       "2                    2                 10                  4             0   \n",
       "3                    0                  4                  6             0   \n",
       "4                    3                  6                  5             0   \n",
       "\n",
       "   AcceptedCmp4  AcceptedCmp5  AcceptedCmp1  AcceptedCmp2  Complain  \\\n",
       "0             0             0             0             0         0   \n",
       "1             0             0             0             0         0   \n",
       "2             0             0             0             0         0   \n",
       "3             0             0             0             0         0   \n",
       "4             0             0             0             0         0   \n",
       "\n",
       "   Z_CostContact  Z_Revenue  Response  \n",
       "0              3         11         1  \n",
       "1              3         11         0  \n",
       "2              3         11         0  \n",
       "3              3         11         0  \n",
       "4              3         11         0  "
      ]
     },
     "execution_count": 103,
     "metadata": {},
     "output_type": "execute_result"
    }
   ],
   "source": [
    "# Load the main dataset\n",
    "\n",
    "df = pd.read_csv(\"/Users/ajdie/datasets/outside data/ml_project1_data.csv\")\n",
    "df.head()"
   ]
  },
  {
   "cell_type": "code",
   "execution_count": 104,
   "id": "a5cb9e91",
   "metadata": {
    "scrolled": true
   },
   "outputs": [
    {
     "data": {
      "text/plain": [
       "Index(['ID', 'Year_Birth', 'Education', 'Marital_Status', 'Income', 'Kidhome',\n",
       "       'Teenhome', 'Dt_Customer', 'Recency', 'MntWines', 'MntFruits',\n",
       "       'MntMeatProducts', 'MntFishProducts', 'MntSweetProducts',\n",
       "       'MntGoldProds', 'NumDealsPurchases', 'NumWebPurchases',\n",
       "       'NumCatalogPurchases', 'NumStorePurchases', 'NumWebVisitsMonth',\n",
       "       'AcceptedCmp3', 'AcceptedCmp4', 'AcceptedCmp5', 'AcceptedCmp1',\n",
       "       'AcceptedCmp2', 'Complain', 'Z_CostContact', 'Z_Revenue', 'Response'],\n",
       "      dtype='object')"
      ]
     },
     "execution_count": 104,
     "metadata": {},
     "output_type": "execute_result"
    }
   ],
   "source": [
    "df.columns"
   ]
  },
  {
   "cell_type": "markdown",
   "id": "968ee4ba",
   "metadata": {},
   "source": [
    "- ID: Customer's unique identifier\n",
    "- Year_Birth: Customer's birth year\n",
    "- Education: Customer's education level\n",
    "- Marital_Status: Customer's marital status\n",
    "- Income: Customer's yearly household income\n",
    "- Kidhome: Number of children in customer's household\n",
    "- Tennhome: Number of teenagers in customer's household\n",
    "- Dt_Customer: Date of customer's enrollment with the company\n",
    "- Recency: Number of days since customer's last purchase\n",
    "- MntWines: Amount spent on wine in the last 2 years\n",
    "- MntFruits: Amount spent on fruits in the last 2 years\n",
    "- MntMeatProducts: Amount spent on meat in the last 2 years\n",
    "- MntFishProducts: Amount spent on fish in the last 2 years\n",
    "- MntSweetProducts: Amount spent on sweets in the last 2 years\n",
    "- MntGoldProds: Amount spent on gold in the last 2 years\n",
    "- NumDealsPurchase: Number of purchases made with a discount\n",
    "- NumWebPurchase: Number of purchases made through the company's web site\n",
    "- NumCatalogPurchase: Number of purchases made using a catalogue\n",
    "- NumStorePurchase: Number of purchases made directly in stores\n",
    "- NumWebVisitsMonth: Number of visits to company's web site in the last month\n",
    "- AcceptedCmp3: 1 if customer accepted the offer in the 3rd campaign, 0 otherwise\n",
    "- AcceptedCmp4: 1 if customer accepted the offer in the 4th campaign, 0 otherwise\n",
    "- AcceptedCmp5: 1 if customer accepted the offer in the 5th campaign, 0 otherwise\n",
    "- AcceptedCmp1: 1 if customer accepted the offer in the 1st campaign, 0 otherwise\n",
    "- AcceptedCmp2: 2 if customer accepted the offer in the 1st campaign, 0 otherwise\n",
    "- Respones: 1 if customer accepted the offer in the last campaign, 0 otherwise\n",
    "- Complain: 1 if customer complained in the last 2 years, 0 otherwise\n",
    "- Country: Customer's location"
   ]
  },
  {
   "cell_type": "code",
   "execution_count": 105,
   "id": "04863a8c",
   "metadata": {},
   "outputs": [
    {
     "name": "stdout",
     "output_type": "stream",
     "text": [
      "This dataset has  29  columns and  2240  rows.\n",
      "This dataset has  0  duplicated rows.\n",
      " \n",
      "Descriptive statistics of the numeric features in the dataset: \n",
      " \n",
      "                 ID   Year_Birth         Income      Kidhome     Teenhome  \\\n",
      "count   2240.000000  2240.000000    2216.000000  2240.000000  2240.000000   \n",
      "mean    5592.159821  1968.805804   52247.251354     0.444196     0.506250   \n",
      "std     3246.662198    11.984069   25173.076661     0.538398     0.544538   \n",
      "min        0.000000  1893.000000    1730.000000     0.000000     0.000000   \n",
      "25%     2828.250000  1959.000000   35303.000000     0.000000     0.000000   \n",
      "50%     5458.500000  1970.000000   51381.500000     0.000000     0.000000   \n",
      "75%     8427.750000  1977.000000   68522.000000     1.000000     1.000000   \n",
      "max    11191.000000  1996.000000  666666.000000     2.000000     2.000000   \n",
      "\n",
      "           Recency     MntWines    MntFruits  MntMeatProducts  \\\n",
      "count  2240.000000  2240.000000  2240.000000      2240.000000   \n",
      "mean     49.109375   303.935714    26.302232       166.950000   \n",
      "std      28.962453   336.597393    39.773434       225.715373   \n",
      "min       0.000000     0.000000     0.000000         0.000000   \n",
      "25%      24.000000    23.750000     1.000000        16.000000   \n",
      "50%      49.000000   173.500000     8.000000        67.000000   \n",
      "75%      74.000000   504.250000    33.000000       232.000000   \n",
      "max      99.000000  1493.000000   199.000000      1725.000000   \n",
      "\n",
      "       MntFishProducts  MntSweetProducts  MntGoldProds  NumDealsPurchases  \\\n",
      "count      2240.000000       2240.000000   2240.000000        2240.000000   \n",
      "mean         37.525446         27.062946     44.021875           2.325000   \n",
      "std          54.628979         41.280498     52.167439           1.932238   \n",
      "min           0.000000          0.000000      0.000000           0.000000   \n",
      "25%           3.000000          1.000000      9.000000           1.000000   \n",
      "50%          12.000000          8.000000     24.000000           2.000000   \n",
      "75%          50.000000         33.000000     56.000000           3.000000   \n",
      "max         259.000000        263.000000    362.000000          15.000000   \n",
      "\n",
      "       NumWebPurchases  NumCatalogPurchases  NumStorePurchases  \\\n",
      "count      2240.000000          2240.000000        2240.000000   \n",
      "mean          4.084821             2.662054           5.790179   \n",
      "std           2.778714             2.923101           3.250958   \n",
      "min           0.000000             0.000000           0.000000   \n",
      "25%           2.000000             0.000000           3.000000   \n",
      "50%           4.000000             2.000000           5.000000   \n",
      "75%           6.000000             4.000000           8.000000   \n",
      "max          27.000000            28.000000          13.000000   \n",
      "\n",
      "       NumWebVisitsMonth  AcceptedCmp3  AcceptedCmp4  AcceptedCmp5  \\\n",
      "count        2240.000000   2240.000000   2240.000000   2240.000000   \n",
      "mean            5.316518      0.072768      0.074554      0.072768   \n",
      "std             2.426645      0.259813      0.262728      0.259813   \n",
      "min             0.000000      0.000000      0.000000      0.000000   \n",
      "25%             3.000000      0.000000      0.000000      0.000000   \n",
      "50%             6.000000      0.000000      0.000000      0.000000   \n",
      "75%             7.000000      0.000000      0.000000      0.000000   \n",
      "max            20.000000      1.000000      1.000000      1.000000   \n",
      "\n",
      "       AcceptedCmp1  AcceptedCmp2     Complain  Z_CostContact  Z_Revenue  \\\n",
      "count   2240.000000   2240.000000  2240.000000         2240.0     2240.0   \n",
      "mean       0.064286      0.013393     0.009375            3.0       11.0   \n",
      "std        0.245316      0.114976     0.096391            0.0        0.0   \n",
      "min        0.000000      0.000000     0.000000            3.0       11.0   \n",
      "25%        0.000000      0.000000     0.000000            3.0       11.0   \n",
      "50%        0.000000      0.000000     0.000000            3.0       11.0   \n",
      "75%        0.000000      0.000000     0.000000            3.0       11.0   \n",
      "max        1.000000      1.000000     1.000000            3.0       11.0   \n",
      "\n",
      "          Response  \n",
      "count  2240.000000  \n",
      "mean      0.149107  \n",
      "std       0.356274  \n",
      "min       0.000000  \n",
      "25%       0.000000  \n",
      "50%       0.000000  \n",
      "75%       0.000000  \n",
      "max       1.000000  \n",
      " \n",
      "Information about this dataset: \n",
      " \n",
      "<class 'pandas.core.frame.DataFrame'>\n",
      "RangeIndex: 2240 entries, 0 to 2239\n",
      "Data columns (total 29 columns):\n",
      " #   Column               Non-Null Count  Dtype  \n",
      "---  ------               --------------  -----  \n",
      " 0   ID                   2240 non-null   int64  \n",
      " 1   Year_Birth           2240 non-null   int64  \n",
      " 2   Education            2240 non-null   object \n",
      " 3   Marital_Status       2240 non-null   object \n",
      " 4   Income               2216 non-null   float64\n",
      " 5   Kidhome              2240 non-null   int64  \n",
      " 6   Teenhome             2240 non-null   int64  \n",
      " 7   Dt_Customer          2240 non-null   object \n",
      " 8   Recency              2240 non-null   int64  \n",
      " 9   MntWines             2240 non-null   int64  \n",
      " 10  MntFruits            2240 non-null   int64  \n",
      " 11  MntMeatProducts      2240 non-null   int64  \n",
      " 12  MntFishProducts      2240 non-null   int64  \n",
      " 13  MntSweetProducts     2240 non-null   int64  \n",
      " 14  MntGoldProds         2240 non-null   int64  \n",
      " 15  NumDealsPurchases    2240 non-null   int64  \n",
      " 16  NumWebPurchases      2240 non-null   int64  \n",
      " 17  NumCatalogPurchases  2240 non-null   int64  \n",
      " 18  NumStorePurchases    2240 non-null   int64  \n",
      " 19  NumWebVisitsMonth    2240 non-null   int64  \n",
      " 20  AcceptedCmp3         2240 non-null   int64  \n",
      " 21  AcceptedCmp4         2240 non-null   int64  \n",
      " 22  AcceptedCmp5         2240 non-null   int64  \n",
      " 23  AcceptedCmp1         2240 non-null   int64  \n",
      " 24  AcceptedCmp2         2240 non-null   int64  \n",
      " 25  Complain             2240 non-null   int64  \n",
      " 26  Z_CostContact        2240 non-null   int64  \n",
      " 27  Z_Revenue            2240 non-null   int64  \n",
      " 28  Response             2240 non-null   int64  \n",
      "dtypes: float64(1), int64(25), object(3)\n",
      "memory usage: 507.6+ KB\n",
      "None\n"
     ]
    }
   ],
   "source": [
    "# Info on dataset\n",
    "\n",
    "def basic_info(df):\n",
    "    print(\"This dataset has \", df.shape[1], \" columns and \", df.shape[0], \" rows.\")\n",
    "    print(\"This dataset has \", df[df.duplicated()].shape[0], \" duplicated rows.\")\n",
    "    print(\" \")\n",
    "    print(\"Descriptive statistics of the numeric features in the dataset: \")\n",
    "    print(\" \")\n",
    "    print(df.describe())\n",
    "    print(\" \")\n",
    "    print(\"Information about this dataset: \")\n",
    "    print(\" \")\n",
    "    print(df.info())\n",
    "    \n",
    "basic_info(df)"
   ]
  },
  {
   "cell_type": "markdown",
   "id": "5dfbb3a4",
   "metadata": {},
   "source": [
    "### Data Quality Issues\n",
    "\n",
    "1. Income column has 23 missing values\n",
    "2. Income's type is string\n",
    "3. Dt_Customer's type is string\n",
    "4. Additional Marital_Status values"
   ]
  },
  {
   "cell_type": "markdown",
   "id": "1eaec7bf",
   "metadata": {},
   "source": [
    "#### Data Quality Issue 1 & 2\n",
    "1. Income column has 23 missing values\n",
    "2. Income's type is string\n",
    "\n",
    "Divide the data into two dataframes: \n",
    "- one has income values\n",
    "- one doesn't have income values"
   ]
  },
  {
   "cell_type": "code",
   "execution_count": 106,
   "id": "519b4a26",
   "metadata": {},
   "outputs": [],
   "source": [
    "df_copy = df.copy()"
   ]
  },
  {
   "cell_type": "code",
   "execution_count": 107,
   "id": "d49c15b2",
   "metadata": {},
   "outputs": [],
   "source": [
    "df_copy['Income'] = df['Income'].fillna(0).astype(int)"
   ]
  },
  {
   "cell_type": "code",
   "execution_count": 108,
   "id": "10e21235",
   "metadata": {},
   "outputs": [
    {
     "name": "stdout",
     "output_type": "stream",
     "text": [
      "<class 'pandas.core.frame.DataFrame'>\n",
      "RangeIndex: 2240 entries, 0 to 2239\n",
      "Data columns (total 29 columns):\n",
      " #   Column               Non-Null Count  Dtype \n",
      "---  ------               --------------  ----- \n",
      " 0   ID                   2240 non-null   int64 \n",
      " 1   Year_Birth           2240 non-null   int64 \n",
      " 2   Education            2240 non-null   object\n",
      " 3   Marital_Status       2240 non-null   object\n",
      " 4   Income               2240 non-null   int32 \n",
      " 5   Kidhome              2240 non-null   int64 \n",
      " 6   Teenhome             2240 non-null   int64 \n",
      " 7   Dt_Customer          2240 non-null   object\n",
      " 8   Recency              2240 non-null   int64 \n",
      " 9   MntWines             2240 non-null   int64 \n",
      " 10  MntFruits            2240 non-null   int64 \n",
      " 11  MntMeatProducts      2240 non-null   int64 \n",
      " 12  MntFishProducts      2240 non-null   int64 \n",
      " 13  MntSweetProducts     2240 non-null   int64 \n",
      " 14  MntGoldProds         2240 non-null   int64 \n",
      " 15  NumDealsPurchases    2240 non-null   int64 \n",
      " 16  NumWebPurchases      2240 non-null   int64 \n",
      " 17  NumCatalogPurchases  2240 non-null   int64 \n",
      " 18  NumStorePurchases    2240 non-null   int64 \n",
      " 19  NumWebVisitsMonth    2240 non-null   int64 \n",
      " 20  AcceptedCmp3         2240 non-null   int64 \n",
      " 21  AcceptedCmp4         2240 non-null   int64 \n",
      " 22  AcceptedCmp5         2240 non-null   int64 \n",
      " 23  AcceptedCmp1         2240 non-null   int64 \n",
      " 24  AcceptedCmp2         2240 non-null   int64 \n",
      " 25  Complain             2240 non-null   int64 \n",
      " 26  Z_CostContact        2240 non-null   int64 \n",
      " 27  Z_Revenue            2240 non-null   int64 \n",
      " 28  Response             2240 non-null   int64 \n",
      "dtypes: int32(1), int64(25), object(3)\n",
      "memory usage: 498.9+ KB\n"
     ]
    }
   ],
   "source": [
    "df_copy.info()"
   ]
  },
  {
   "cell_type": "code",
   "execution_count": 109,
   "id": "38f08d89",
   "metadata": {
    "scrolled": true
   },
   "outputs": [
    {
     "data": {
      "text/plain": [
       "952     44051\n",
       "2076    27889\n",
       "1839    57333\n",
       "940     64831\n",
       "1731    18690\n",
       "Name: Income, dtype: int32"
      ]
     },
     "execution_count": 109,
     "metadata": {},
     "output_type": "execute_result"
    }
   ],
   "source": [
    "df_copy.Income.sample(5)"
   ]
  },
  {
   "cell_type": "code",
   "execution_count": 110,
   "id": "9c0414f8",
   "metadata": {},
   "outputs": [],
   "source": [
    "have_income = df_copy[df_copy.Income.isnull()==False]\n",
    "no_income = df_copy[df_copy.Income.isnull()==True]"
   ]
  },
  {
   "cell_type": "code",
   "execution_count": 111,
   "id": "49aaac09",
   "metadata": {},
   "outputs": [],
   "source": [
    "# Convert the one that has income to type int\n",
    "\n",
    "have_income.Income = have_income.Income.astype(int)\n",
    "\n",
    "# Replace missing values with the median value\n",
    "\n",
    "no_income.Income = str(have_income.Income.median())\n",
    "\n",
    "no_income.Income = no_income.Income.str.replace(\".5\", \"\")\n",
    "no_income.Income = no_income.Income.astype(int)"
   ]
  },
  {
   "cell_type": "code",
   "execution_count": 112,
   "id": "3efe10a3",
   "metadata": {},
   "outputs": [],
   "source": [
    "# Merge the data\n",
    "df_copy = no_income.append(have_income)"
   ]
  },
  {
   "cell_type": "markdown",
   "id": "07c7de3e",
   "metadata": {},
   "source": [
    "#### Confirm the Income column no longer has any missing values and that the values held are of type int"
   ]
  },
  {
   "cell_type": "code",
   "execution_count": 113,
   "id": "de567ae5",
   "metadata": {},
   "outputs": [
    {
     "name": "stdout",
     "output_type": "stream",
     "text": [
      "<class 'pandas.core.frame.DataFrame'>\n",
      "Int64Index: 2240 entries, 0 to 2239\n",
      "Data columns (total 29 columns):\n",
      " #   Column               Non-Null Count  Dtype \n",
      "---  ------               --------------  ----- \n",
      " 0   ID                   2240 non-null   int64 \n",
      " 1   Year_Birth           2240 non-null   int64 \n",
      " 2   Education            2240 non-null   object\n",
      " 3   Marital_Status       2240 non-null   object\n",
      " 4   Income               2240 non-null   int32 \n",
      " 5   Kidhome              2240 non-null   int64 \n",
      " 6   Teenhome             2240 non-null   int64 \n",
      " 7   Dt_Customer          2240 non-null   object\n",
      " 8   Recency              2240 non-null   int64 \n",
      " 9   MntWines             2240 non-null   int64 \n",
      " 10  MntFruits            2240 non-null   int64 \n",
      " 11  MntMeatProducts      2240 non-null   int64 \n",
      " 12  MntFishProducts      2240 non-null   int64 \n",
      " 13  MntSweetProducts     2240 non-null   int64 \n",
      " 14  MntGoldProds         2240 non-null   int64 \n",
      " 15  NumDealsPurchases    2240 non-null   int64 \n",
      " 16  NumWebPurchases      2240 non-null   int64 \n",
      " 17  NumCatalogPurchases  2240 non-null   int64 \n",
      " 18  NumStorePurchases    2240 non-null   int64 \n",
      " 19  NumWebVisitsMonth    2240 non-null   int64 \n",
      " 20  AcceptedCmp3         2240 non-null   int64 \n",
      " 21  AcceptedCmp4         2240 non-null   int64 \n",
      " 22  AcceptedCmp5         2240 non-null   int64 \n",
      " 23  AcceptedCmp1         2240 non-null   int64 \n",
      " 24  AcceptedCmp2         2240 non-null   int64 \n",
      " 25  Complain             2240 non-null   int64 \n",
      " 26  Z_CostContact        2240 non-null   int64 \n",
      " 27  Z_Revenue            2240 non-null   int64 \n",
      " 28  Response             2240 non-null   int64 \n",
      "dtypes: int32(1), int64(25), object(3)\n",
      "memory usage: 516.2+ KB\n"
     ]
    }
   ],
   "source": [
    "df_copy.info()"
   ]
  },
  {
   "cell_type": "markdown",
   "id": "83bc86d4",
   "metadata": {},
   "source": [
    "#### Data Quality Issue 3\n",
    "3. Dt_Customer's type is string\n",
    "\n",
    "Convert Dt_Customer type from object to datetime64"
   ]
  },
  {
   "cell_type": "code",
   "execution_count": 114,
   "id": "c28df5ba",
   "metadata": {},
   "outputs": [],
   "source": [
    "df_copy.Dt_Customer = pd.to_datetime(df_copy.Dt_Customer)"
   ]
  },
  {
   "cell_type": "markdown",
   "id": "f6e74429",
   "metadata": {},
   "source": [
    "#### Confirm the Dt_Customer type changed from object to datetime64"
   ]
  },
  {
   "cell_type": "code",
   "execution_count": 115,
   "id": "01ae6875",
   "metadata": {},
   "outputs": [
    {
     "name": "stdout",
     "output_type": "stream",
     "text": [
      "<class 'pandas.core.frame.DataFrame'>\n",
      "Int64Index: 2240 entries, 0 to 2239\n",
      "Data columns (total 29 columns):\n",
      " #   Column               Non-Null Count  Dtype         \n",
      "---  ------               --------------  -----         \n",
      " 0   ID                   2240 non-null   int64         \n",
      " 1   Year_Birth           2240 non-null   int64         \n",
      " 2   Education            2240 non-null   object        \n",
      " 3   Marital_Status       2240 non-null   object        \n",
      " 4   Income               2240 non-null   int32         \n",
      " 5   Kidhome              2240 non-null   int64         \n",
      " 6   Teenhome             2240 non-null   int64         \n",
      " 7   Dt_Customer          2240 non-null   datetime64[ns]\n",
      " 8   Recency              2240 non-null   int64         \n",
      " 9   MntWines             2240 non-null   int64         \n",
      " 10  MntFruits            2240 non-null   int64         \n",
      " 11  MntMeatProducts      2240 non-null   int64         \n",
      " 12  MntFishProducts      2240 non-null   int64         \n",
      " 13  MntSweetProducts     2240 non-null   int64         \n",
      " 14  MntGoldProds         2240 non-null   int64         \n",
      " 15  NumDealsPurchases    2240 non-null   int64         \n",
      " 16  NumWebPurchases      2240 non-null   int64         \n",
      " 17  NumCatalogPurchases  2240 non-null   int64         \n",
      " 18  NumStorePurchases    2240 non-null   int64         \n",
      " 19  NumWebVisitsMonth    2240 non-null   int64         \n",
      " 20  AcceptedCmp3         2240 non-null   int64         \n",
      " 21  AcceptedCmp4         2240 non-null   int64         \n",
      " 22  AcceptedCmp5         2240 non-null   int64         \n",
      " 23  AcceptedCmp1         2240 non-null   int64         \n",
      " 24  AcceptedCmp2         2240 non-null   int64         \n",
      " 25  Complain             2240 non-null   int64         \n",
      " 26  Z_CostContact        2240 non-null   int64         \n",
      " 27  Z_Revenue            2240 non-null   int64         \n",
      " 28  Response             2240 non-null   int64         \n",
      "dtypes: datetime64[ns](1), int32(1), int64(25), object(2)\n",
      "memory usage: 516.2+ KB\n"
     ]
    }
   ],
   "source": [
    "df_copy.info()"
   ]
  },
  {
   "cell_type": "markdown",
   "id": "857690ed",
   "metadata": {},
   "source": [
    "#### Data Quality Issue 4\n",
    "4. Additional Marital_Status values\n",
    "\n",
    "Replace certain status values"
   ]
  },
  {
   "cell_type": "code",
   "execution_count": 116,
   "id": "6536df8b",
   "metadata": {},
   "outputs": [
    {
     "data": {
      "text/plain": [
       "array(['Single', 'Together', 'Married', 'Divorced', 'Widow', 'Alone',\n",
       "       'Absurd', 'YOLO'], dtype=object)"
      ]
     },
     "execution_count": 116,
     "metadata": {},
     "output_type": "execute_result"
    }
   ],
   "source": [
    "# Checking unique values of marital status column\n",
    "\n",
    "df['Marital_Status'].unique()"
   ]
  },
  {
   "cell_type": "code",
   "execution_count": 117,
   "id": "e8236264",
   "metadata": {},
   "outputs": [],
   "source": [
    "# Replace 'Alone' with 'Single'\n",
    "# Replace 'Together' as 'Married'\n",
    "\n",
    "df['Marital_Status'] = df['Marital_Status'].replace(['Alone'],'Single')\n",
    "df['Marital_Status'] = df['Marital_Status'].replace(['Together'],'Married')"
   ]
  },
  {
   "cell_type": "code",
   "execution_count": 118,
   "id": "49576531",
   "metadata": {},
   "outputs": [],
   "source": [
    "# Drop rows with unknown/unusable marital status\n",
    "\n",
    "df.drop(df[df['Marital_Status'] == 'Absurd'].index, inplace=True)\n",
    "df.drop(df[df['Marital_Status'] == 'YOLO'].index, inplace=True)"
   ]
  },
  {
   "cell_type": "code",
   "execution_count": 119,
   "id": "1778f7b4",
   "metadata": {},
   "outputs": [
    {
     "data": {
      "text/plain": [
       "array(['Single', 'Married', 'Divorced', 'Widow'], dtype=object)"
      ]
     },
     "execution_count": 119,
     "metadata": {},
     "output_type": "execute_result"
    }
   ],
   "source": [
    "# Check the unique values of 'Marital_Status' to confirm that the rows were dropped or replaced\n",
    "\n",
    "df['Marital_Status'].unique()"
   ]
  },
  {
   "cell_type": "markdown",
   "id": "0321391b",
   "metadata": {},
   "source": [
    "### Store the cleaned data file"
   ]
  },
  {
   "cell_type": "code",
   "execution_count": 120,
   "id": "ea08ac8f",
   "metadata": {},
   "outputs": [],
   "source": [
    "df_copy.reset_index(drop=True)\n",
    "df_copy.to_csv('/Users/ajdie/datasets/outside data/clean_df.csv', index=False)"
   ]
  },
  {
   "cell_type": "code",
   "execution_count": 121,
   "id": "e6718651",
   "metadata": {},
   "outputs": [],
   "source": [
    "# load data\n",
    "df = pd.read_csv(\"/Users/ajdie/datasets/outside data/clean_df.csv\")"
   ]
  },
  {
   "cell_type": "markdown",
   "id": "3d861cd0",
   "metadata": {},
   "source": [
    "## Section 02: Exploratory Data Analysis\n",
    "1. Are there any null values or outliers? How will you wrangle/handle them?\n",
    "2. Are there any useful variables that you can engineer with the given data?\n",
    "3. Do you notice any patterns or anomalies in the data? Can you plot them?"
   ]
  },
  {
   "cell_type": "code",
   "execution_count": 122,
   "id": "236cc1c4",
   "metadata": {},
   "outputs": [],
   "source": [
    "df.Dt_Customer = pd.to_datetime(df.Dt_Customer)"
   ]
  },
  {
   "cell_type": "code",
   "execution_count": 123,
   "id": "45a53f30",
   "metadata": {
    "scrolled": true
   },
   "outputs": [
    {
     "name": "stdout",
     "output_type": "stream",
     "text": [
      "<class 'pandas.core.frame.DataFrame'>\n",
      "RangeIndex: 2240 entries, 0 to 2239\n",
      "Data columns (total 29 columns):\n",
      " #   Column               Non-Null Count  Dtype         \n",
      "---  ------               --------------  -----         \n",
      " 0   ID                   2240 non-null   int64         \n",
      " 1   Year_Birth           2240 non-null   int64         \n",
      " 2   Education            2240 non-null   object        \n",
      " 3   Marital_Status       2240 non-null   object        \n",
      " 4   Income               2240 non-null   int64         \n",
      " 5   Kidhome              2240 non-null   int64         \n",
      " 6   Teenhome             2240 non-null   int64         \n",
      " 7   Dt_Customer          2240 non-null   datetime64[ns]\n",
      " 8   Recency              2240 non-null   int64         \n",
      " 9   MntWines             2240 non-null   int64         \n",
      " 10  MntFruits            2240 non-null   int64         \n",
      " 11  MntMeatProducts      2240 non-null   int64         \n",
      " 12  MntFishProducts      2240 non-null   int64         \n",
      " 13  MntSweetProducts     2240 non-null   int64         \n",
      " 14  MntGoldProds         2240 non-null   int64         \n",
      " 15  NumDealsPurchases    2240 non-null   int64         \n",
      " 16  NumWebPurchases      2240 non-null   int64         \n",
      " 17  NumCatalogPurchases  2240 non-null   int64         \n",
      " 18  NumStorePurchases    2240 non-null   int64         \n",
      " 19  NumWebVisitsMonth    2240 non-null   int64         \n",
      " 20  AcceptedCmp3         2240 non-null   int64         \n",
      " 21  AcceptedCmp4         2240 non-null   int64         \n",
      " 22  AcceptedCmp5         2240 non-null   int64         \n",
      " 23  AcceptedCmp1         2240 non-null   int64         \n",
      " 24  AcceptedCmp2         2240 non-null   int64         \n",
      " 25  Complain             2240 non-null   int64         \n",
      " 26  Z_CostContact        2240 non-null   int64         \n",
      " 27  Z_Revenue            2240 non-null   int64         \n",
      " 28  Response             2240 non-null   int64         \n",
      "dtypes: datetime64[ns](1), int64(26), object(2)\n",
      "memory usage: 507.6+ KB\n"
     ]
    }
   ],
   "source": [
    "df.info()"
   ]
  },
  {
   "cell_type": "markdown",
   "id": "38327d76",
   "metadata": {},
   "source": [
    "#### Check for outliers"
   ]
  },
  {
   "cell_type": "code",
   "execution_count": 124,
   "id": "9ed319a9",
   "metadata": {
    "scrolled": true
   },
   "outputs": [
    {
     "data": {
      "image/png": "[encoded data removed]",
      "text/plain": [
       "<Figure size 864x1008 with 16 Axes>"
      ]
     },
     "metadata": {
      "needs_background": "light"
     },
     "output_type": "display_data"
    }
   ],
   "source": [
    "# Select the columns to plot by dropping the others\n",
    "\n",
    "df_to_plot = df.drop(columns=['ID', 'Education', 'Marital_Status', 'Dt_Customer',\n",
    "                              'AcceptedCmp3', 'AcceptedCmp4', 'AcceptedCmp5', \n",
    "                              'AcceptedCmp1','AcceptedCmp2', 'Complain', \n",
    "                              'Z_CostContact', 'Z_Revenue', 'Response']).select_dtypes(include=np.number)\n",
    "\n",
    "# Subplots\n",
    "\n",
    "df_to_plot.plot(subplots=True, layout=(4,4), kind='box', figsize=(12,14), patch_artist=True)\n",
    "plt.suptitle('Find Outliers', fontsize=15, y=0.9)\n",
    "plt.savefig('boxplots.png', bbox_inches='tight')"
   ]
  },
  {
   "cell_type": "markdown",
   "id": "fac99fb3",
   "metadata": {},
   "source": [
    "\n"
   ]
  },
  {
   "cell_type": "markdown",
   "id": "731069b7",
   "metadata": {},
   "source": [
    "#### Section 02-1: Are there any null values or outliers? How will you wrangle/handle them?\n",
    "Outliers mean they are below or above 3 standard deviations from the mean.\n",
    "- Income had 23 null values; the median number was used to fill them in.\n",
    "- Probable entry errors for Year_Birth since those are pre 1900 dates and those people are most likely not with us anymore\n",
    "- Many columns have outliers, but most of them seem like natural outliers that came from the population."
   ]
  },
  {
   "cell_type": "code",
   "execution_count": 125,
   "id": "a7a4e23b",
   "metadata": {
    "scrolled": true
   },
   "outputs": [
    {
     "data": {
      "text/plain": [
       "count    2240.000000\n",
       "mean     1968.805804\n",
       "std        11.984069\n",
       "min      1893.000000\n",
       "25%      1959.000000\n",
       "50%      1970.000000\n",
       "75%      1977.000000\n",
       "max      1996.000000\n",
       "Name: Year_Birth, dtype: float64"
      ]
     },
     "execution_count": 125,
     "metadata": {},
     "output_type": "execute_result"
    }
   ],
   "source": [
    "df.Year_Birth.describe()"
   ]
  },
  {
   "cell_type": "code",
   "execution_count": 126,
   "id": "ebc5ce28",
   "metadata": {},
   "outputs": [
    {
     "data": {
      "text/plain": [
       "count    2237.000000\n",
       "mean     1968.901654\n",
       "std        11.701917\n",
       "min      1940.000000\n",
       "25%      1959.000000\n",
       "50%      1970.000000\n",
       "75%      1977.000000\n",
       "max      1996.000000\n",
       "Name: Year_Birth, dtype: float64"
      ]
     },
     "execution_count": 126,
     "metadata": {},
     "output_type": "execute_result"
    }
   ],
   "source": [
    "# Remove outliers in year_birth\n",
    "\n",
    "new_df = df[df.Year_Birth >= (df.Year_Birth.mean() - 3*df.Year_Birth.std())]\n",
    "new_df.Year_Birth.describe()"
   ]
  },
  {
   "cell_type": "markdown",
   "id": "5eeaa155",
   "metadata": {},
   "source": [
    "#### Section 02-2: Are there any useful variables that you can engineer with the given data?\n",
    "* Join_year: The year that person became a customer, which can be engineered from \"Dt_Customer\"\n",
    "* Join_month: The month that person became a customer, which can be engineered from \"Dt_Customer\"\n",
    "* Join_weekday: The day of the week that person became a customer, which can be engineered from \"Dt_Customer\"\n",
    "* Minorhome: The total amount of minors in their family, which can be acquired by summing up by Kidhome and Teenhome.\n",
    "* Total_Mnt: Total amount spent in the last two years, which can be acquired by summing up all the \"Mnt\"-related columns\n",
    "* Total_num_purchase: Total number of purchases in the last two years, which can be acquired by summing up all the \"Num\"-related columns\n",
    "* Total_accept: Total amount a customer accepted the offer in marketing campaign, which can be acquired by summing up all the \"Accepted\"-related columns and the \"Response\" column\n",
    "* \"AOV\": AOV stands for the average order volumn of each customer, which can be engineerd by dividing Total_Mnt by Total_num_purchase"
   ]
  },
  {
   "cell_type": "code",
   "execution_count": 127,
   "id": "1e25ddcb",
   "metadata": {},
   "outputs": [],
   "source": [
    "new_df.Dt_Customer = pd.to_datetime(new_df.Dt_Customer)"
   ]
  },
  {
   "cell_type": "markdown",
   "id": "cd69eeed",
   "metadata": {},
   "source": [
    "#### Creation of the new features"
   ]
  },
  {
   "cell_type": "code",
   "execution_count": 128,
   "id": "ddc1c2be",
   "metadata": {},
   "outputs": [],
   "source": [
    "new_df[\"Join_year\"] = new_df.Dt_Customer.dt.year\n",
    "new_df[\"Join_month\"] = new_df.Dt_Customer.dt.month\n",
    "new_df[\"Join_weekday\"] = new_df.Dt_Customer.dt.weekday\n",
    "new_df[\"Minorhome\"] = new_df.Kidhome + new_df.Teenhome\n",
    "new_df['Total_Mnt'] = new_df.MntWines+ new_df.MntFruits+ new_df.MntMeatProducts+ new_df.MntFishProducts+ new_df.MntSweetProducts+ new_df.MntGoldProds \n",
    "new_df['Total_num_purchase'] = new_df.NumDealsPurchases+ new_df.NumWebPurchases+ new_df.NumCatalogPurchases+ new_df.NumStorePurchases+ new_df.NumWebVisitsMonth \n",
    "new_df['Total_accept'] = new_df.AcceptedCmp1 + new_df.AcceptedCmp2 + new_df.AcceptedCmp2 + new_df.AcceptedCmp2  + new_df.AcceptedCmp3 + new_df.AcceptedCmp4 + new_df.AcceptedCmp5 + new_df.Response\n",
    "new_df['AOV'] = new_df.Total_Mnt/new_df.Total_num_purchase"
   ]
  },
  {
   "cell_type": "code",
   "execution_count": 129,
   "id": "a94ec27a",
   "metadata": {},
   "outputs": [
    {
     "data": {
      "text/html": [
       "<div>\n",
       "<style scoped>\n",
       "    .dataframe tbody tr th:only-of-type {\n",
       "        vertical-align: middle;\n",
       "    }\n",
       "\n",
       "    .dataframe tbody tr th {\n",
       "        vertical-align: top;\n",
       "    }\n",
       "\n",
       "    .dataframe thead th {\n",
       "        text-align: right;\n",
       "    }\n",
       "</style>\n",
       "<table border=\"1\" class=\"dataframe\">\n",
       "  <thead>\n",
       "    <tr style=\"text-align: right;\">\n",
       "      <th></th>\n",
       "      <th>ID</th>\n",
       "      <th>Year_Birth</th>\n",
       "      <th>Education</th>\n",
       "      <th>Marital_Status</th>\n",
       "      <th>Income</th>\n",
       "      <th>Kidhome</th>\n",
       "      <th>Teenhome</th>\n",
       "      <th>Dt_Customer</th>\n",
       "      <th>Recency</th>\n",
       "      <th>MntWines</th>\n",
       "      <th>MntFruits</th>\n",
       "      <th>MntMeatProducts</th>\n",
       "      <th>MntFishProducts</th>\n",
       "      <th>MntSweetProducts</th>\n",
       "      <th>MntGoldProds</th>\n",
       "      <th>NumDealsPurchases</th>\n",
       "      <th>NumWebPurchases</th>\n",
       "      <th>NumCatalogPurchases</th>\n",
       "      <th>NumStorePurchases</th>\n",
       "      <th>NumWebVisitsMonth</th>\n",
       "      <th>AcceptedCmp3</th>\n",
       "      <th>AcceptedCmp4</th>\n",
       "      <th>AcceptedCmp5</th>\n",
       "      <th>AcceptedCmp1</th>\n",
       "      <th>AcceptedCmp2</th>\n",
       "      <th>Complain</th>\n",
       "      <th>Z_CostContact</th>\n",
       "      <th>Z_Revenue</th>\n",
       "      <th>Response</th>\n",
       "      <th>Join_year</th>\n",
       "      <th>Join_month</th>\n",
       "      <th>Join_weekday</th>\n",
       "      <th>Minorhome</th>\n",
       "      <th>Total_Mnt</th>\n",
       "      <th>Total_num_purchase</th>\n",
       "      <th>Total_accept</th>\n",
       "      <th>AOV</th>\n",
       "    </tr>\n",
       "  </thead>\n",
       "  <tbody>\n",
       "    <tr>\n",
       "      <th>2132</th>\n",
       "      <td>11181</td>\n",
       "      <td>1949</td>\n",
       "      <td>PhD</td>\n",
       "      <td>Married</td>\n",
       "      <td>156924</td>\n",
       "      <td>0</td>\n",
       "      <td>0</td>\n",
       "      <td>2013-08-29</td>\n",
       "      <td>85</td>\n",
       "      <td>2</td>\n",
       "      <td>1</td>\n",
       "      <td>2</td>\n",
       "      <td>1</td>\n",
       "      <td>1</td>\n",
       "      <td>1</td>\n",
       "      <td>0</td>\n",
       "      <td>0</td>\n",
       "      <td>0</td>\n",
       "      <td>0</td>\n",
       "      <td>0</td>\n",
       "      <td>0</td>\n",
       "      <td>0</td>\n",
       "      <td>0</td>\n",
       "      <td>0</td>\n",
       "      <td>0</td>\n",
       "      <td>0</td>\n",
       "      <td>3</td>\n",
       "      <td>11</td>\n",
       "      <td>0</td>\n",
       "      <td>2013</td>\n",
       "      <td>8</td>\n",
       "      <td>3</td>\n",
       "      <td>0</td>\n",
       "      <td>8</td>\n",
       "      <td>0</td>\n",
       "      <td>0</td>\n",
       "      <td>inf</td>\n",
       "    </tr>\n",
       "    <tr>\n",
       "      <th>53</th>\n",
       "      <td>2225</td>\n",
       "      <td>1977</td>\n",
       "      <td>Graduation</td>\n",
       "      <td>Divorced</td>\n",
       "      <td>82582</td>\n",
       "      <td>0</td>\n",
       "      <td>0</td>\n",
       "      <td>2014-06-07</td>\n",
       "      <td>54</td>\n",
       "      <td>510</td>\n",
       "      <td>120</td>\n",
       "      <td>550</td>\n",
       "      <td>156</td>\n",
       "      <td>40</td>\n",
       "      <td>241</td>\n",
       "      <td>1</td>\n",
       "      <td>4</td>\n",
       "      <td>9</td>\n",
       "      <td>7</td>\n",
       "      <td>1</td>\n",
       "      <td>1</td>\n",
       "      <td>0</td>\n",
       "      <td>0</td>\n",
       "      <td>1</td>\n",
       "      <td>0</td>\n",
       "      <td>0</td>\n",
       "      <td>3</td>\n",
       "      <td>11</td>\n",
       "      <td>1</td>\n",
       "      <td>2014</td>\n",
       "      <td>6</td>\n",
       "      <td>5</td>\n",
       "      <td>0</td>\n",
       "      <td>1617</td>\n",
       "      <td>22</td>\n",
       "      <td>3</td>\n",
       "      <td>73.500000</td>\n",
       "    </tr>\n",
       "    <tr>\n",
       "      <th>2202</th>\n",
       "      <td>11133</td>\n",
       "      <td>1973</td>\n",
       "      <td>PhD</td>\n",
       "      <td>YOLO</td>\n",
       "      <td>48432</td>\n",
       "      <td>0</td>\n",
       "      <td>1</td>\n",
       "      <td>2012-10-18</td>\n",
       "      <td>3</td>\n",
       "      <td>322</td>\n",
       "      <td>3</td>\n",
       "      <td>50</td>\n",
       "      <td>4</td>\n",
       "      <td>3</td>\n",
       "      <td>42</td>\n",
       "      <td>5</td>\n",
       "      <td>7</td>\n",
       "      <td>1</td>\n",
       "      <td>6</td>\n",
       "      <td>8</td>\n",
       "      <td>0</td>\n",
       "      <td>0</td>\n",
       "      <td>0</td>\n",
       "      <td>0</td>\n",
       "      <td>0</td>\n",
       "      <td>0</td>\n",
       "      <td>3</td>\n",
       "      <td>11</td>\n",
       "      <td>1</td>\n",
       "      <td>2012</td>\n",
       "      <td>10</td>\n",
       "      <td>3</td>\n",
       "      <td>1</td>\n",
       "      <td>424</td>\n",
       "      <td>27</td>\n",
       "      <td>1</td>\n",
       "      <td>15.703704</td>\n",
       "    </tr>\n",
       "    <tr>\n",
       "      <th>1875</th>\n",
       "      <td>9612</td>\n",
       "      <td>1987</td>\n",
       "      <td>2n Cycle</td>\n",
       "      <td>Single</td>\n",
       "      <td>23830</td>\n",
       "      <td>0</td>\n",
       "      <td>0</td>\n",
       "      <td>2014-02-07</td>\n",
       "      <td>3</td>\n",
       "      <td>1</td>\n",
       "      <td>8</td>\n",
       "      <td>6</td>\n",
       "      <td>4</td>\n",
       "      <td>8</td>\n",
       "      <td>16</td>\n",
       "      <td>1</td>\n",
       "      <td>1</td>\n",
       "      <td>0</td>\n",
       "      <td>3</td>\n",
       "      <td>7</td>\n",
       "      <td>0</td>\n",
       "      <td>0</td>\n",
       "      <td>0</td>\n",
       "      <td>0</td>\n",
       "      <td>0</td>\n",
       "      <td>0</td>\n",
       "      <td>3</td>\n",
       "      <td>11</td>\n",
       "      <td>0</td>\n",
       "      <td>2014</td>\n",
       "      <td>2</td>\n",
       "      <td>4</td>\n",
       "      <td>0</td>\n",
       "      <td>43</td>\n",
       "      <td>12</td>\n",
       "      <td>0</td>\n",
       "      <td>3.583333</td>\n",
       "    </tr>\n",
       "    <tr>\n",
       "      <th>330</th>\n",
       "      <td>2861</td>\n",
       "      <td>1983</td>\n",
       "      <td>Graduation</td>\n",
       "      <td>Single</td>\n",
       "      <td>24072</td>\n",
       "      <td>1</td>\n",
       "      <td>0</td>\n",
       "      <td>2013-04-16</td>\n",
       "      <td>79</td>\n",
       "      <td>9</td>\n",
       "      <td>1</td>\n",
       "      <td>6</td>\n",
       "      <td>3</td>\n",
       "      <td>0</td>\n",
       "      <td>4</td>\n",
       "      <td>1</td>\n",
       "      <td>1</td>\n",
       "      <td>0</td>\n",
       "      <td>2</td>\n",
       "      <td>8</td>\n",
       "      <td>0</td>\n",
       "      <td>0</td>\n",
       "      <td>0</td>\n",
       "      <td>0</td>\n",
       "      <td>0</td>\n",
       "      <td>0</td>\n",
       "      <td>3</td>\n",
       "      <td>11</td>\n",
       "      <td>0</td>\n",
       "      <td>2013</td>\n",
       "      <td>4</td>\n",
       "      <td>1</td>\n",
       "      <td>1</td>\n",
       "      <td>23</td>\n",
       "      <td>12</td>\n",
       "      <td>0</td>\n",
       "      <td>1.916667</td>\n",
       "    </tr>\n",
       "    <tr>\n",
       "      <th>2056</th>\n",
       "      <td>7441</td>\n",
       "      <td>1973</td>\n",
       "      <td>Graduation</td>\n",
       "      <td>Divorced</td>\n",
       "      <td>71128</td>\n",
       "      <td>1</td>\n",
       "      <td>0</td>\n",
       "      <td>2012-10-06</td>\n",
       "      <td>80</td>\n",
       "      <td>958</td>\n",
       "      <td>159</td>\n",
       "      <td>447</td>\n",
       "      <td>20</td>\n",
       "      <td>0</td>\n",
       "      <td>31</td>\n",
       "      <td>3</td>\n",
       "      <td>2</td>\n",
       "      <td>10</td>\n",
       "      <td>12</td>\n",
       "      <td>7</td>\n",
       "      <td>0</td>\n",
       "      <td>0</td>\n",
       "      <td>0</td>\n",
       "      <td>0</td>\n",
       "      <td>0</td>\n",
       "      <td>0</td>\n",
       "      <td>3</td>\n",
       "      <td>11</td>\n",
       "      <td>0</td>\n",
       "      <td>2012</td>\n",
       "      <td>10</td>\n",
       "      <td>5</td>\n",
       "      <td>1</td>\n",
       "      <td>1615</td>\n",
       "      <td>34</td>\n",
       "      <td>0</td>\n",
       "      <td>47.500000</td>\n",
       "    </tr>\n",
       "    <tr>\n",
       "      <th>331</th>\n",
       "      <td>663</td>\n",
       "      <td>1989</td>\n",
       "      <td>PhD</td>\n",
       "      <td>Single</td>\n",
       "      <td>33996</td>\n",
       "      <td>0</td>\n",
       "      <td>0</td>\n",
       "      <td>2013-09-11</td>\n",
       "      <td>46</td>\n",
       "      <td>40</td>\n",
       "      <td>2</td>\n",
       "      <td>15</td>\n",
       "      <td>8</td>\n",
       "      <td>0</td>\n",
       "      <td>6</td>\n",
       "      <td>1</td>\n",
       "      <td>1</td>\n",
       "      <td>1</td>\n",
       "      <td>3</td>\n",
       "      <td>4</td>\n",
       "      <td>0</td>\n",
       "      <td>0</td>\n",
       "      <td>0</td>\n",
       "      <td>0</td>\n",
       "      <td>0</td>\n",
       "      <td>0</td>\n",
       "      <td>3</td>\n",
       "      <td>11</td>\n",
       "      <td>0</td>\n",
       "      <td>2013</td>\n",
       "      <td>9</td>\n",
       "      <td>2</td>\n",
       "      <td>0</td>\n",
       "      <td>71</td>\n",
       "      <td>10</td>\n",
       "      <td>0</td>\n",
       "      <td>7.100000</td>\n",
       "    </tr>\n",
       "    <tr>\n",
       "      <th>1879</th>\n",
       "      <td>3426</td>\n",
       "      <td>1975</td>\n",
       "      <td>Graduation</td>\n",
       "      <td>Divorced</td>\n",
       "      <td>70300</td>\n",
       "      <td>1</td>\n",
       "      <td>0</td>\n",
       "      <td>2013-07-15</td>\n",
       "      <td>89</td>\n",
       "      <td>1045</td>\n",
       "      <td>61</td>\n",
       "      <td>338</td>\n",
       "      <td>60</td>\n",
       "      <td>46</td>\n",
       "      <td>46</td>\n",
       "      <td>3</td>\n",
       "      <td>5</td>\n",
       "      <td>5</td>\n",
       "      <td>13</td>\n",
       "      <td>8</td>\n",
       "      <td>0</td>\n",
       "      <td>0</td>\n",
       "      <td>0</td>\n",
       "      <td>0</td>\n",
       "      <td>0</td>\n",
       "      <td>0</td>\n",
       "      <td>3</td>\n",
       "      <td>11</td>\n",
       "      <td>0</td>\n",
       "      <td>2013</td>\n",
       "      <td>7</td>\n",
       "      <td>0</td>\n",
       "      <td>1</td>\n",
       "      <td>1596</td>\n",
       "      <td>34</td>\n",
       "      <td>0</td>\n",
       "      <td>46.941176</td>\n",
       "    </tr>\n",
       "    <tr>\n",
       "      <th>1036</th>\n",
       "      <td>10613</td>\n",
       "      <td>1958</td>\n",
       "      <td>PhD</td>\n",
       "      <td>Together</td>\n",
       "      <td>37334</td>\n",
       "      <td>1</td>\n",
       "      <td>1</td>\n",
       "      <td>2014-02-26</td>\n",
       "      <td>44</td>\n",
       "      <td>26</td>\n",
       "      <td>1</td>\n",
       "      <td>16</td>\n",
       "      <td>2</td>\n",
       "      <td>2</td>\n",
       "      <td>15</td>\n",
       "      <td>4</td>\n",
       "      <td>3</td>\n",
       "      <td>0</td>\n",
       "      <td>4</td>\n",
       "      <td>4</td>\n",
       "      <td>0</td>\n",
       "      <td>0</td>\n",
       "      <td>0</td>\n",
       "      <td>0</td>\n",
       "      <td>0</td>\n",
       "      <td>0</td>\n",
       "      <td>3</td>\n",
       "      <td>11</td>\n",
       "      <td>0</td>\n",
       "      <td>2014</td>\n",
       "      <td>2</td>\n",
       "      <td>2</td>\n",
       "      <td>2</td>\n",
       "      <td>62</td>\n",
       "      <td>15</td>\n",
       "      <td>0</td>\n",
       "      <td>4.133333</td>\n",
       "    </tr>\n",
       "    <tr>\n",
       "      <th>682</th>\n",
       "      <td>75</td>\n",
       "      <td>1982</td>\n",
       "      <td>2n Cycle</td>\n",
       "      <td>Together</td>\n",
       "      <td>41039</td>\n",
       "      <td>0</td>\n",
       "      <td>0</td>\n",
       "      <td>2013-07-25</td>\n",
       "      <td>32</td>\n",
       "      <td>34</td>\n",
       "      <td>11</td>\n",
       "      <td>137</td>\n",
       "      <td>179</td>\n",
       "      <td>61</td>\n",
       "      <td>45</td>\n",
       "      <td>1</td>\n",
       "      <td>8</td>\n",
       "      <td>1</td>\n",
       "      <td>5</td>\n",
       "      <td>8</td>\n",
       "      <td>0</td>\n",
       "      <td>0</td>\n",
       "      <td>0</td>\n",
       "      <td>0</td>\n",
       "      <td>0</td>\n",
       "      <td>0</td>\n",
       "      <td>3</td>\n",
       "      <td>11</td>\n",
       "      <td>0</td>\n",
       "      <td>2013</td>\n",
       "      <td>7</td>\n",
       "      <td>3</td>\n",
       "      <td>0</td>\n",
       "      <td>467</td>\n",
       "      <td>23</td>\n",
       "      <td>0</td>\n",
       "      <td>20.304348</td>\n",
       "    </tr>\n",
       "  </tbody>\n",
       "</table>\n",
       "</div>"
      ],
      "text/plain": [
       "         ID  Year_Birth   Education Marital_Status  Income  Kidhome  Teenhome  \\\n",
       "2132  11181        1949         PhD        Married  156924        0         0   \n",
       "53     2225        1977  Graduation       Divorced   82582        0         0   \n",
       "2202  11133        1973         PhD           YOLO   48432        0         1   \n",
       "1875   9612        1987    2n Cycle         Single   23830        0         0   \n",
       "330    2861        1983  Graduation         Single   24072        1         0   \n",
       "2056   7441        1973  Graduation       Divorced   71128        1         0   \n",
       "331     663        1989         PhD         Single   33996        0         0   \n",
       "1879   3426        1975  Graduation       Divorced   70300        1         0   \n",
       "1036  10613        1958         PhD       Together   37334        1         1   \n",
       "682      75        1982    2n Cycle       Together   41039        0         0   \n",
       "\n",
       "     Dt_Customer  Recency  MntWines  MntFruits  MntMeatProducts  \\\n",
       "2132  2013-08-29       85         2          1                2   \n",
       "53    2014-06-07       54       510        120              550   \n",
       "2202  2012-10-18        3       322          3               50   \n",
       "1875  2014-02-07        3         1          8                6   \n",
       "330   2013-04-16       79         9          1                6   \n",
       "2056  2012-10-06       80       958        159              447   \n",
       "331   2013-09-11       46        40          2               15   \n",
       "1879  2013-07-15       89      1045         61              338   \n",
       "1036  2014-02-26       44        26          1               16   \n",
       "682   2013-07-25       32        34         11              137   \n",
       "\n",
       "      MntFishProducts  MntSweetProducts  MntGoldProds  NumDealsPurchases  \\\n",
       "2132                1                 1             1                  0   \n",
       "53                156                40           241                  1   \n",
       "2202                4                 3            42                  5   \n",
       "1875                4                 8            16                  1   \n",
       "330                 3                 0             4                  1   \n",
       "2056               20                 0            31                  3   \n",
       "331                 8                 0             6                  1   \n",
       "1879               60                46            46                  3   \n",
       "1036                2                 2            15                  4   \n",
       "682               179                61            45                  1   \n",
       "\n",
       "      NumWebPurchases  NumCatalogPurchases  NumStorePurchases  \\\n",
       "2132                0                    0                  0   \n",
       "53                  4                    9                  7   \n",
       "2202                7                    1                  6   \n",
       "1875                1                    0                  3   \n",
       "330                 1                    0                  2   \n",
       "2056                2                   10                 12   \n",
       "331                 1                    1                  3   \n",
       "1879                5                    5                 13   \n",
       "1036                3                    0                  4   \n",
       "682                 8                    1                  5   \n",
       "\n",
       "      NumWebVisitsMonth  AcceptedCmp3  AcceptedCmp4  AcceptedCmp5  \\\n",
       "2132                  0             0             0             0   \n",
       "53                    1             1             0             0   \n",
       "2202                  8             0             0             0   \n",
       "1875                  7             0             0             0   \n",
       "330                   8             0             0             0   \n",
       "2056                  7             0             0             0   \n",
       "331                   4             0             0             0   \n",
       "1879                  8             0             0             0   \n",
       "1036                  4             0             0             0   \n",
       "682                   8             0             0             0   \n",
       "\n",
       "      AcceptedCmp1  AcceptedCmp2  Complain  Z_CostContact  Z_Revenue  \\\n",
       "2132             0             0         0              3         11   \n",
       "53               1             0         0              3         11   \n",
       "2202             0             0         0              3         11   \n",
       "1875             0             0         0              3         11   \n",
       "330              0             0         0              3         11   \n",
       "2056             0             0         0              3         11   \n",
       "331              0             0         0              3         11   \n",
       "1879             0             0         0              3         11   \n",
       "1036             0             0         0              3         11   \n",
       "682              0             0         0              3         11   \n",
       "\n",
       "      Response  Join_year  Join_month  Join_weekday  Minorhome  Total_Mnt  \\\n",
       "2132         0       2013           8             3          0          8   \n",
       "53           1       2014           6             5          0       1617   \n",
       "2202         1       2012          10             3          1        424   \n",
       "1875         0       2014           2             4          0         43   \n",
       "330          0       2013           4             1          1         23   \n",
       "2056         0       2012          10             5          1       1615   \n",
       "331          0       2013           9             2          0         71   \n",
       "1879         0       2013           7             0          1       1596   \n",
       "1036         0       2014           2             2          2         62   \n",
       "682          0       2013           7             3          0        467   \n",
       "\n",
       "      Total_num_purchase  Total_accept        AOV  \n",
       "2132                   0             0        inf  \n",
       "53                    22             3  73.500000  \n",
       "2202                  27             1  15.703704  \n",
       "1875                  12             0   3.583333  \n",
       "330                   12             0   1.916667  \n",
       "2056                  34             0  47.500000  \n",
       "331                   10             0   7.100000  \n",
       "1879                  34             0  46.941176  \n",
       "1036                  15             0   4.133333  \n",
       "682                   23             0  20.304348  "
      ]
     },
     "execution_count": 129,
     "metadata": {},
     "output_type": "execute_result"
    }
   ],
   "source": [
    "new_df.sample(10)"
   ]
  },
  {
   "cell_type": "markdown",
   "id": "8d003190",
   "metadata": {},
   "source": [
    "#### Section 02-3: Do you notice any patterns or anomalies in the data? Can you plot them?\n",
    "* To identify patterns, we will first identify feature correlations. Positive correlations between features appear blue, negative correlations appear red, and no correlation appears grey in the clustered heatmap below.\n",
    "* From this heatmap we can observe the following clusters of correlated features:\n",
    "    * The **\"High Income\"** cluster:\n",
    "        * Amount spent ('TotalMnt' and other 'Mnt' features) and number of purchases ('TotalPurchases' and other 'Num...Purchases' features) are positively correlated with 'Income'\n",
    "        * Purchasing in store, on the web, or via the catalog ('NumStorePurchases', 'NumWebPurchases', 'NumCatalogPurchases') is positively correlated with 'Income'\n",
    "    * The **\"Have Kids & Teens\"** cluster:\n",
    "        * Amount spent ('TotalMnt' and other 'Mnt' features) and number of purchases ('TotalPurchases' and other 'Num...Purchases' features) are negatively correlated with 'Dependents' (with a stronger effect from kids vs. teens)\n",
    "        * Purchasing deals ('NumDealsPurchases') is positively correlated with 'Dependents' (kids and/or teens) and negatively correlated with 'Income'\n",
    "    * The **\"Advertising Campaigns\"** cluster:\n",
    "        * Acceptance of the advertising campaigns ('AcceptedCmp' and 'Response') are strongly positively correlated with each other\n",
    "        * Weak positive correlation of the advertising campaigns is seen with the \"High Income\" cluster, and weak negative correlation is seen with the \"Have Kids & Teens\" cluster\n",
    "* Anomalies:\n",
    "    * Surprisingly, the number of website visits in the last month ('NumWebVisitsMonth') does not correlate with an increased number of web purchases ('NumWebPurchases')\n",
    "    * Instead, 'NumWebVisitsMonth' is positively correlated with the number of deals purchased ('NumDealsPurchases'), suggesting that suggesting that deals are an effective way of stimulating purchases on the website"
   ]
  },
  {
   "cell_type": "markdown",
   "id": "7eb9e49f",
   "metadata": {},
   "source": [
    "#### Correlation Heatmap"
   ]
  },
  {
   "cell_type": "code",
   "execution_count": 130,
   "id": "e19eeed0",
   "metadata": {},
   "outputs": [
    {
     "data": {
      "image/png": "[encoded data removed]",
      "text/plain": [
       "<Figure size 864x648 with 2 Axes>"
      ]
     },
     "metadata": {
      "needs_background": "light"
     },
     "output_type": "display_data"
    }
   ],
   "source": [
    "# Select columns to plot\n",
    "\n",
    "df_to_plot = new_df.drop(columns=['ID'])\n",
    "\n",
    "# Create heatmap\n",
    "\n",
    "plt.figure(figsize = (12, 9))\n",
    "s = sns.heatmap(df_to_plot.corr(),  cmap = 'RdBu',vmin = -1, vmax = 1,center = 0)\n",
    "s.set_yticklabels(s.get_yticklabels(), rotation = 0, fontsize = 12)\n",
    "s.set_xticklabels(s.get_xticklabels(), rotation = 90, fontsize = 12)\n",
    "bottom, top = s.get_ylim()\n",
    "s.set_ylim(bottom + 0.5, top - 0.5)\n",
    "plt.title(\"Correlation Heatmap\")\n",
    "plt.savefig('heatmap.png', bbox_inches='tight')\n",
    "plt.show()"
   ]
  },
  {
   "cell_type": "code",
   "execution_count": 131,
   "id": "2817d3c1",
   "metadata": {},
   "outputs": [
    {
     "data": {
      "image/png": "[encoded data removed]",
      "text/plain": [
       "<Figure size 432x288 with 1 Axes>"
      ]
     },
     "metadata": {
      "needs_background": "light"
     },
     "output_type": "display_data"
    }
   ],
   "source": [
    "# Visualize Complain vs Total_Mnt\n",
    "\n",
    "new_df.plot(x='Complain', y='Total_Mnt', kind='scatter')\n",
    "plt.title(\"Complain vs Total_Mnt\");"
   ]
  },
  {
   "cell_type": "code",
   "execution_count": 132,
   "id": "7c1a1349",
   "metadata": {},
   "outputs": [
    {
     "name": "stdout",
     "output_type": "stream",
     "text": [
      "<class 'pandas.core.frame.DataFrame'>\n",
      "RangeIndex: 2240 entries, 0 to 2239\n",
      "Data columns (total 29 columns):\n",
      " #   Column               Non-Null Count  Dtype         \n",
      "---  ------               --------------  -----         \n",
      " 0   ID                   2240 non-null   int64         \n",
      " 1   Year_Birth           2240 non-null   int64         \n",
      " 2   Education            2240 non-null   object        \n",
      " 3   Marital_Status       2240 non-null   object        \n",
      " 4   Income               2240 non-null   int64         \n",
      " 5   Kidhome              2240 non-null   int64         \n",
      " 6   Teenhome             2240 non-null   int64         \n",
      " 7   Dt_Customer          2240 non-null   datetime64[ns]\n",
      " 8   Recency              2240 non-null   int64         \n",
      " 9   MntWines             2240 non-null   int64         \n",
      " 10  MntFruits            2240 non-null   int64         \n",
      " 11  MntMeatProducts      2240 non-null   int64         \n",
      " 12  MntFishProducts      2240 non-null   int64         \n",
      " 13  MntSweetProducts     2240 non-null   int64         \n",
      " 14  MntGoldProds         2240 non-null   int64         \n",
      " 15  NumDealsPurchases    2240 non-null   int64         \n",
      " 16  NumWebPurchases      2240 non-null   int64         \n",
      " 17  NumCatalogPurchases  2240 non-null   int64         \n",
      " 18  NumStorePurchases    2240 non-null   int64         \n",
      " 19  NumWebVisitsMonth    2240 non-null   int64         \n",
      " 20  AcceptedCmp3         2240 non-null   int64         \n",
      " 21  AcceptedCmp4         2240 non-null   int64         \n",
      " 22  AcceptedCmp5         2240 non-null   int64         \n",
      " 23  AcceptedCmp1         2240 non-null   int64         \n",
      " 24  AcceptedCmp2         2240 non-null   int64         \n",
      " 25  Complain             2240 non-null   int64         \n",
      " 26  Z_CostContact        2240 non-null   int64         \n",
      " 27  Z_Revenue            2240 non-null   int64         \n",
      " 28  Response             2240 non-null   int64         \n",
      "dtypes: datetime64[ns](1), int64(26), object(2)\n",
      "memory usage: 507.6+ KB\n"
     ]
    }
   ],
   "source": [
    "df.info()"
   ]
  },
  {
   "cell_type": "code",
   "execution_count": 133,
   "id": "76489868",
   "metadata": {},
   "outputs": [
    {
     "data": {
      "text/plain": [
       "ID                     0\n",
       "Year_Birth             0\n",
       "Education              0\n",
       "Marital_Status         0\n",
       "Income                 0\n",
       "Kidhome                0\n",
       "Teenhome               0\n",
       "Dt_Customer            0\n",
       "Recency                0\n",
       "MntWines               0\n",
       "MntFruits              0\n",
       "MntMeatProducts        0\n",
       "MntFishProducts        0\n",
       "MntSweetProducts       0\n",
       "MntGoldProds           0\n",
       "NumDealsPurchases      0\n",
       "NumWebPurchases        0\n",
       "NumCatalogPurchases    0\n",
       "NumStorePurchases      0\n",
       "NumWebVisitsMonth      0\n",
       "AcceptedCmp3           0\n",
       "AcceptedCmp4           0\n",
       "AcceptedCmp5           0\n",
       "AcceptedCmp1           0\n",
       "AcceptedCmp2           0\n",
       "Complain               0\n",
       "Z_CostContact          0\n",
       "Z_Revenue              0\n",
       "Response               0\n",
       "Join_year              0\n",
       "Join_month             0\n",
       "Join_weekday           0\n",
       "Minorhome              0\n",
       "Total_Mnt              0\n",
       "Total_num_purchase     0\n",
       "Total_accept           0\n",
       "AOV                    0\n",
       "dtype: int64"
      ]
     },
     "execution_count": 133,
     "metadata": {},
     "output_type": "execute_result"
    }
   ],
   "source": [
    "new_df.isna().sum()"
   ]
  },
  {
   "cell_type": "code",
   "execution_count": 134,
   "id": "ef1cf98e",
   "metadata": {},
   "outputs": [],
   "source": [
    "new_df['Income'] = new_df['Income'].fillna(0)"
   ]
  },
  {
   "cell_type": "code",
   "execution_count": 135,
   "id": "a7ef865b",
   "metadata": {},
   "outputs": [
    {
     "data": {
      "text/plain": [
       "ID                     0\n",
       "Year_Birth             0\n",
       "Education              0\n",
       "Marital_Status         0\n",
       "Income                 0\n",
       "Kidhome                0\n",
       "Teenhome               0\n",
       "Dt_Customer            0\n",
       "Recency                0\n",
       "MntWines               0\n",
       "MntFruits              0\n",
       "MntMeatProducts        0\n",
       "MntFishProducts        0\n",
       "MntSweetProducts       0\n",
       "MntGoldProds           0\n",
       "NumDealsPurchases      0\n",
       "NumWebPurchases        0\n",
       "NumCatalogPurchases    0\n",
       "NumStorePurchases      0\n",
       "NumWebVisitsMonth      0\n",
       "AcceptedCmp3           0\n",
       "AcceptedCmp4           0\n",
       "AcceptedCmp5           0\n",
       "AcceptedCmp1           0\n",
       "AcceptedCmp2           0\n",
       "Complain               0\n",
       "Z_CostContact          0\n",
       "Z_Revenue              0\n",
       "Response               0\n",
       "Join_year              0\n",
       "Join_month             0\n",
       "Join_weekday           0\n",
       "Minorhome              0\n",
       "Total_Mnt              0\n",
       "Total_num_purchase     0\n",
       "Total_accept           0\n",
       "AOV                    0\n",
       "dtype: int64"
      ]
     },
     "execution_count": 135,
     "metadata": {},
     "output_type": "execute_result"
    }
   ],
   "source": [
    "new_df.isna().sum()"
   ]
  },
  {
   "cell_type": "code",
   "execution_count": 136,
   "id": "b3d55fb6",
   "metadata": {},
   "outputs": [
    {
     "name": "stdout",
     "output_type": "stream",
     "text": [
      "<class 'pandas.core.frame.DataFrame'>\n",
      "Int64Index: 2237 entries, 0 to 2239\n",
      "Data columns (total 37 columns):\n",
      " #   Column               Non-Null Count  Dtype         \n",
      "---  ------               --------------  -----         \n",
      " 0   ID                   2237 non-null   int64         \n",
      " 1   Year_Birth           2237 non-null   int64         \n",
      " 2   Education            2237 non-null   object        \n",
      " 3   Marital_Status       2237 non-null   object        \n",
      " 4   Income               2237 non-null   int64         \n",
      " 5   Kidhome              2237 non-null   int64         \n",
      " 6   Teenhome             2237 non-null   int64         \n",
      " 7   Dt_Customer          2237 non-null   datetime64[ns]\n",
      " 8   Recency              2237 non-null   int64         \n",
      " 9   MntWines             2237 non-null   int64         \n",
      " 10  MntFruits            2237 non-null   int64         \n",
      " 11  MntMeatProducts      2237 non-null   int64         \n",
      " 12  MntFishProducts      2237 non-null   int64         \n",
      " 13  MntSweetProducts     2237 non-null   int64         \n",
      " 14  MntGoldProds         2237 non-null   int64         \n",
      " 15  NumDealsPurchases    2237 non-null   int64         \n",
      " 16  NumWebPurchases      2237 non-null   int64         \n",
      " 17  NumCatalogPurchases  2237 non-null   int64         \n",
      " 18  NumStorePurchases    2237 non-null   int64         \n",
      " 19  NumWebVisitsMonth    2237 non-null   int64         \n",
      " 20  AcceptedCmp3         2237 non-null   int64         \n",
      " 21  AcceptedCmp4         2237 non-null   int64         \n",
      " 22  AcceptedCmp5         2237 non-null   int64         \n",
      " 23  AcceptedCmp1         2237 non-null   int64         \n",
      " 24  AcceptedCmp2         2237 non-null   int64         \n",
      " 25  Complain             2237 non-null   int64         \n",
      " 26  Z_CostContact        2237 non-null   int64         \n",
      " 27  Z_Revenue            2237 non-null   int64         \n",
      " 28  Response             2237 non-null   int64         \n",
      " 29  Join_year            2237 non-null   int64         \n",
      " 30  Join_month           2237 non-null   int64         \n",
      " 31  Join_weekday         2237 non-null   int64         \n",
      " 32  Minorhome            2237 non-null   int64         \n",
      " 33  Total_Mnt            2237 non-null   int64         \n",
      " 34  Total_num_purchase   2237 non-null   int64         \n",
      " 35  Total_accept         2237 non-null   int64         \n",
      " 36  AOV                  2237 non-null   float64       \n",
      "dtypes: datetime64[ns](1), float64(1), int64(33), object(2)\n",
      "memory usage: 664.1+ KB\n"
     ]
    }
   ],
   "source": [
    "new_df.info()"
   ]
  },
  {
   "cell_type": "code",
   "execution_count": 142,
   "id": "a19f8351",
   "metadata": {},
   "outputs": [
    {
     "name": "stdout",
     "output_type": "stream",
     "text": [
      "Pearson correlation (r):  -0.03373965091266398\n",
      "Pearson p-value:  0.11063526070950919\n"
     ]
    }
   ],
   "source": [
    "from scipy.stats import pearsonr\n",
    "\n",
    "r, p_value  =  pearsonr(x=new_df['Complain'], y=new_df['Total_Mnt'])\n",
    "\n",
    "# print results\n",
    "print('Pearson correlation (r): ', r)\n",
    "print('Pearson p-value: ', p_value)"
   ]
  },
  {
   "cell_type": "code",
   "execution_count": 143,
   "id": "84297cd7",
   "metadata": {},
   "outputs": [
    {
     "data": {
      "text/plain": [
       "20"
      ]
     },
     "execution_count": 143,
     "metadata": {},
     "output_type": "execute_result"
    }
   ],
   "source": [
    "new_df[new_df.Complain > 0].ID.nunique()"
   ]
  },
  {
   "cell_type": "code",
   "execution_count": 144,
   "id": "4c1ea7c9",
   "metadata": {},
   "outputs": [
    {
     "data": {
      "image/png": "[encoded data removed]",
      "text/plain": [
       "<Figure size 432x288 with 1 Axes>"
      ]
     },
     "metadata": {
      "needs_background": "light"
     },
     "output_type": "display_data"
    }
   ],
   "source": [
    "# Visualize NumWebPurchases vs NumWebVisitsMonth\n",
    "\n",
    "new_df.plot(x='NumWebPurchases', y='NumWebVisitsMonth', kind='scatter')\n",
    "plt.title(\"NumWebPurchases vs NumWebVisitsMonth\");"
   ]
  },
  {
   "cell_type": "markdown",
   "id": "faf866dd",
   "metadata": {},
   "source": [
    "#### Scatter plot of NumWebPurchases vs NumWebVisitsMonth doesn't show any correlation"
   ]
  },
  {
   "cell_type": "markdown",
   "id": "92c13725",
   "metadata": {},
   "source": [
    "## Section 03: Statistical Analysis\n",
    "\n",
    "Statistical tests in the form of regressions will be run to answer these questions & propose data-driven action recommendations.\n",
    "\n",
    "* What factors are significantly related to the number of store purchases?\n",
    "* Your supervisor insists that people who buy gold are more conservative. Therefore, people who spent an above average amount on gold in the last 2 years would have more in store purchases. Justify or refute this statement using an appropriate statistical test\n",
    "* Fish has Omega 3 fatty acids which are good for the brain. Accordingly, do \"Married PhD candidates\" have a significant relation with amount spent on fish?"
   ]
  },
  {
   "cell_type": "markdown",
   "id": "98acc9d0",
   "metadata": {},
   "source": [
    "#### Section 03-1: What factors are significantly related to the number of store purchases?\n",
    "\n",
    "#### The top 7 factors are:\n",
    "\n",
    "1. Total amount spent in the last two years\n",
    "2. Average order volume\n",
    "3. Total number of purchases in the last two years\n",
    "4. Amount spent on wine in the last 2 years\n",
    "5. Number of purchases made using a catalog\n",
    "6. Number of visits to company's web site in the last month\n",
    "7. Total number of purchases through website in the last two years "
   ]
  },
  {
   "cell_type": "code",
   "execution_count": 189,
   "id": "ff045be1",
   "metadata": {},
   "outputs": [
    {
     "data": {
      "image/png": "[encoded data removed]",
      "text/plain": [
       "<Figure size 432x288 with 1 Axes>"
      ]
     },
     "metadata": {
      "needs_background": "light"
     },
     "output_type": "display_data"
    }
   ],
   "source": [
    "new_df.NumStorePurchases.hist()\n",
    "plt.title(\"Distribution of the number of store purchases\");"
   ]
  },
  {
   "cell_type": "code",
   "execution_count": 146,
   "id": "cd4eb794",
   "metadata": {},
   "outputs": [
    {
     "name": "stdout",
     "output_type": "stream",
     "text": [
      "Mean Absolute Error: 0.7677678571428572\n",
      "Mean Squared Error: 1.2905771577380951\n",
      "Root Mean Squared Error: 1.1360357202738367\n"
     ]
    }
   ],
   "source": [
    "# Drop ID as everyone has unique ID\n",
    "\n",
    "rd_df = new_df.drop(columns=['ID', 'Dt_Customer'])\n",
    "rd_df.replace([np.inf, -np.inf], 0, inplace=True)\n",
    "\n",
    "# One-hot encoding\n",
    "\n",
    "rd_df = pd.get_dummies(rd_df)\n",
    "\n",
    "# Import train_test_split function\n",
    "\n",
    "from sklearn.model_selection import train_test_split\n",
    "\n",
    "X=rd_df.drop(columns=['NumStorePurchases'])  # Features\n",
    "y=rd_df['NumStorePurchases']  # Labels\n",
    "\n",
    "# Split dataset into training set (70%) and test set (30%)\n",
    "\n",
    "X_train, X_test, y_train, y_test = train_test_split(X, y, test_size=0.3) \n",
    "\n",
    "# Import Random Forest Model\n",
    "\n",
    "from sklearn.ensemble import RandomForestRegressor\n",
    "\n",
    "# Create a Random Forest Classifier with 100 trees\n",
    "\n",
    "rg = RandomForestRegressor(n_estimators=200, n_jobs=-1)\n",
    "\n",
    "# Train the model using the training sets y_pred=clf.predict(X_test)\n",
    "\n",
    "rg.fit(X_train, y_train)\n",
    "\n",
    "y_pred=rg.predict(X_test)\n",
    "\n",
    "from sklearn import metrics\n",
    "\n",
    "print('Mean Absolute Error:', metrics.mean_absolute_error(y_test, y_pred))\n",
    "print('Mean Squared Error:', metrics.mean_squared_error(y_test, y_pred))\n",
    "print('Root Mean Squared Error:', np.sqrt(metrics.mean_squared_error(y_test, y_pred)))"
   ]
  },
  {
   "cell_type": "markdown",
   "id": "414ec911",
   "metadata": {},
   "source": [
    "#### Findings:\n",
    "\n",
    "* The range of NumStorePurchases is 13\n",
    "* RMSE: 1.1 (less than 10% of the range) which means it is a relaible model"
   ]
  },
  {
   "cell_type": "code",
   "execution_count": 152,
   "id": "6d5fc99e",
   "metadata": {},
   "outputs": [
    {
     "data": {
      "image/png": "[encoded data removed]",
      "text/plain": [
       "<Figure size 504x504 with 1 Axes>"
      ]
     },
     "metadata": {
      "needs_background": "light"
     },
     "output_type": "display_data"
    }
   ],
   "source": [
    "# Find feature importance scores\n",
    "\n",
    "import pandas as pd\n",
    "feature_imp = pd.Series(rg.feature_importances_, \n",
    "        index = list(X.columns)).sort_values(ascending=False)\n",
    "\n",
    "feature_imp = feature_imp[:10]\n",
    "\n",
    "# Creating a bar plot\n",
    "\n",
    "plt.figure(figsize = (7, 7))\n",
    "sns.barplot(x=feature_imp[:10], y=feature_imp.index[:10])\n",
    "\n",
    "# Add labels to your graph\n",
    "\n",
    "plt.xlabel('Feature Importance Score')\n",
    "plt.ylabel('Features')\n",
    "plt.title(\"Visualizing Top 10 Important Features\")\n",
    "plt.savefig('important_feautres.png', bbox_inches='tight')\n",
    "plt.show()"
   ]
  },
  {
   "cell_type": "code",
   "execution_count": 188,
   "id": "e1caaa83",
   "metadata": {},
   "outputs": [
    {
     "name": "stderr",
     "output_type": "stream",
     "text": [
      " 99%|===================| 666/672 [00:18<00:00]        "
     ]
    },
    {
     "data": {
      "image/png": "[encoded data removed]",
      "text/plain": [
       "<Figure size 576x338.4 with 2 Axes>"
      ]
     },
     "metadata": {
      "needs_background": "light"
     },
     "output_type": "display_data"
    },
    {
     "data": {
      "text/plain": [
       "<Figure size 432x288 with 0 Axes>"
      ]
     },
     "metadata": {},
     "output_type": "display_data"
    }
   ],
   "source": [
    "import shap\n",
    "\n",
    "# Calculate SHAP values\n",
    "\n",
    "ex = shap.Explainer(rg, X_train)\n",
    "shap_values = ex(X_test)\n",
    "\n",
    "# Plot\n",
    "\n",
    "plt.title('SHAP summary for NumStorePurchases', size=16)\n",
    "fig = shap.plots.beeswarm(shap_values, max_display=8)\n",
    "plt.savefig('SHAP.png', bbox_inches='tight')\n",
    "plt.show()"
   ]
  },
  {
   "cell_type": "markdown",
   "id": "069cbb47",
   "metadata": {},
   "source": [
    "#### Findings:\n",
    "\n",
    "1. The number of store purchase increases with a higher total amount spent, higher total purchase amount, higher AOV, and higher amount of wines purchased.\n",
    "2. The number of store purchase decreases with a higher number of website visits, higher number of purchases through catalog, and higher number of purchases through websites.\n",
    "\n",
    "Summary: People who mostly shop at the store, tend to buy more wines, have higher average order volume, and shop less through internet/catalog."
   ]
  },
  {
   "cell_type": "code",
   "execution_count": 156,
   "id": "5383d0d4",
   "metadata": {},
   "outputs": [
    {
     "data": {
      "image/png": "[encoded data removed]",
      "text/plain": [
       "<Figure size 360x432 with 1 Axes>"
      ]
     },
     "metadata": {
      "needs_background": "light"
     },
     "output_type": "display_data"
    }
   ],
   "source": [
    "store_shoppers = new_df[new_df.NumStorePurchases>0]\n",
    "store_shoppers = store_shoppers[store_shoppers.AOV <= (store_shoppers.AOV.mean()+3*store_shoppers.AOV.std())]\n",
    "store_shoppers['Type of shopper'] = \"In-store\"\n",
    "other_shoppers = new_df[new_df.NumStorePurchases==0]\n",
    "other_shoppers['Type of shopper'] = \"Other\"\n",
    "\n",
    "plt.figure(figsize = (5, 6))\n",
    "all_shoppers = store_shoppers.append(other_shoppers)\n",
    "plt.title(\"Do in-store shoppers have a higher average order volume?\")\n",
    "sns.boxplot(data = all_shoppers, x = 'Type of shopper', y = 'AOV')\n",
    "plt.ylabel(\"Average Order Volume\")\n",
    "plt.savefig('AOV.png', bbox_inches='tight')"
   ]
  },
  {
   "cell_type": "code",
   "execution_count": 157,
   "id": "a524c852",
   "metadata": {},
   "outputs": [
    {
     "data": {
      "image/png": "[encoded data removed]",
      "text/plain": [
       "<Figure size 432x288 with 1 Axes>"
      ]
     },
     "metadata": {
      "needs_background": "light"
     },
     "output_type": "display_data"
    }
   ],
   "source": [
    "# AOV vs NumStorePurchases\n",
    "\n",
    "all_shoppers.plot(x='AOV', y='NumStorePurchases', kind='scatter')\n",
    "plt.title(\"AOV vs NumStorePurchases\");\n",
    "plt.savefig('AOV vs NumStorePurchases.png', bbox_inches='tight')"
   ]
  },
  {
   "cell_type": "code",
   "execution_count": 158,
   "id": "20442fa5",
   "metadata": {},
   "outputs": [
    {
     "name": "stdout",
     "output_type": "stream",
     "text": [
      "Pearson correlation (r):  0.5505389394031128\n",
      "Pearson p-value:  2.0526348645442993e-177\n"
     ]
    }
   ],
   "source": [
    "from scipy.stats import pearsonr\n",
    "all_shoppers.replace([np.inf, -np.inf], 0, inplace=True)\n",
    "r, p_value  =  pearsonr(x=all_shoppers['AOV'], y=all_shoppers['NumStorePurchases'])\n",
    "\n",
    "# print results\n",
    "print('Pearson correlation (r): ', r)\n",
    "print('Pearson p-value: ', p_value)"
   ]
  },
  {
   "cell_type": "markdown",
   "id": "fb579c57",
   "metadata": {},
   "source": [
    "#### Section 03-2: People who spent an above average amount on gold in the last 2 years would have more in store purchases?\n",
    "\n",
    "Yes, they are statistically significant and have positive correlation"
   ]
  },
  {
   "cell_type": "code",
   "execution_count": 160,
   "id": "10ef5f3a",
   "metadata": {},
   "outputs": [
    {
     "data": {
      "image/png": "[encoded data removed]",
      "text/plain": [
       "<Figure size 432x288 with 1 Axes>"
      ]
     },
     "metadata": {
      "needs_background": "light"
     },
     "output_type": "display_data"
    }
   ],
   "source": [
    "# Visualize MntGoldProds vs NumStorePurchases\n",
    "\n",
    "new_df.plot(x='MntGoldProds', y='NumStorePurchases', kind='scatter')\n",
    "plt.title(\"MntGoldProds vs NumStorePurchases\");\n",
    "plt.savefig('MntGoldProds vs NumStorePurchases.png', bbox_inches='tight')"
   ]
  },
  {
   "cell_type": "code",
   "execution_count": 163,
   "id": "9f2ea203",
   "metadata": {},
   "outputs": [
    {
     "name": "stdout",
     "output_type": "stream",
     "text": [
      "Pearson correlation (r):  0.38318745816731203\n",
      "Pearson p-value:  4.055657642633392e-79\n"
     ]
    }
   ],
   "source": [
    "from scipy.stats import pearsonr\n",
    "all_shoppers.replace([np.inf, -np.inf], 0, inplace=True)\n",
    "r, p_value  =  pearsonr(x=all_shoppers['MntGoldProds'], y=all_shoppers['NumStorePurchases'])\n",
    "\n",
    "#Print results\n",
    "\n",
    "print('Pearson correlation (r): ', r)\n",
    "print('Pearson p-value: ', p_value)"
   ]
  },
  {
   "cell_type": "code",
   "execution_count": 164,
   "id": "75647c8d",
   "metadata": {},
   "outputs": [
    {
     "data": {
      "image/png": "[encoded data removed]",
      "text/plain": [
       "<Figure size 288x360 with 1 Axes>"
      ]
     },
     "metadata": {
      "needs_background": "light"
     },
     "output_type": "display_data"
    }
   ],
   "source": [
    "gold_above_avg =  new_df[new_df.MntGoldProds > new_df.MntGoldProds.mean()]\n",
    "gold_above_avg['Gold Purchases Amount'] = \"Above Average\"\n",
    "gold_equ_or_below_avg =  new_df[new_df.MntGoldProds <= new_df.MntGoldProds.mean()]\n",
    "gold_equ_or_below_avg['Gold Purchases Amount'] = \"Equals or Below Average\"\n",
    "\n",
    "plt.figure(figsize = (4, 5))\n",
    "df_gold = gold_above_avg.append(gold_equ_or_below_avg)\n",
    "plt.title(\"2 Gold Purchases Groups\")\n",
    "sns.boxplot(data = df_gold, x = 'Gold Purchases Amount', y = 'NumStorePurchases')\n",
    "plt.ylabel(\"Number of In-Store Purchases\");"
   ]
  },
  {
   "cell_type": "markdown",
   "id": "8978c0cb",
   "metadata": {},
   "source": [
    "#### Section 03-3: Fish has Omega 3 fatty acids which are good for the brain. Accordingly, do \"Married PhD candidates\" have a significant relation with amount spent on fish?\n",
    "\n",
    "Married PhD spends less on fish products than the rest"
   ]
  },
  {
   "cell_type": "code",
   "execution_count": 165,
   "id": "e15682a4",
   "metadata": {},
   "outputs": [
    {
     "data": {
      "text/plain": [
       "Index(['ID', 'Year_Birth', 'Education', 'Marital_Status', 'Income', 'Kidhome',\n",
       "       'Teenhome', 'Dt_Customer', 'Recency', 'MntWines', 'MntFruits',\n",
       "       'MntMeatProducts', 'MntFishProducts', 'MntSweetProducts',\n",
       "       'MntGoldProds', 'NumDealsPurchases', 'NumWebPurchases',\n",
       "       'NumCatalogPurchases', 'NumStorePurchases', 'NumWebVisitsMonth',\n",
       "       'AcceptedCmp3', 'AcceptedCmp4', 'AcceptedCmp5', 'AcceptedCmp1',\n",
       "       'AcceptedCmp2', 'Complain', 'Z_CostContact', 'Z_Revenue', 'Response',\n",
       "       'Join_year', 'Join_month', 'Join_weekday', 'Minorhome', 'Total_Mnt',\n",
       "       'Total_num_purchase', 'Total_accept', 'AOV'],\n",
       "      dtype='object')"
      ]
     },
     "execution_count": 165,
     "metadata": {},
     "output_type": "execute_result"
    }
   ],
   "source": [
    "#Divide the data into two groups: married PhD and the rest\n",
    "\n",
    "new_df.columns"
   ]
  },
  {
   "cell_type": "code",
   "execution_count": 167,
   "id": "ac8ab7c9",
   "metadata": {},
   "outputs": [
    {
     "data": {
      "image/png": "[encoded data removed]",
      "text/plain": [
       "<Figure size 288x360 with 1 Axes>"
      ]
     },
     "metadata": {
      "needs_background": "light"
     },
     "output_type": "display_data"
    }
   ],
   "source": [
    "married_phd = new_df[(new_df.Education == \"PhD\") & (new_df.Marital_Status == \"Married\")]\n",
    "married_phd['label'] = \"Married PhD\"\n",
    "the_rest = new_df[(new_df.Education != \"PhD\") | (new_df.Marital_Status != \"Married\")]\n",
    "the_rest['label'] = \"The rest\"\n",
    "\n",
    "df_combined = married_phd.append(the_rest)\n",
    "plt.figure(figsize = (4, 5))\n",
    "plt.title(\"Married PhD vs the rest\")\n",
    "sns.boxplot(data = df_combined, x = 'label', y = 'MntFishProducts')\n",
    "plt.ylabel(\"Amount spent on fish products\");\n",
    "plt.savefig('Married PhD vs the rest.png', bbox_inches='tight')"
   ]
  },
  {
   "cell_type": "code",
   "execution_count": 168,
   "id": "e6ecab5f",
   "metadata": {},
   "outputs": [
    {
     "name": "stdout",
     "output_type": "stream",
     "text": [
      "T-test p-value:  0.005297012242158541\n"
     ]
    }
   ],
   "source": [
    "#Use t-test to test these two groups have the same mean\n",
    "\n",
    "from scipy.stats import ttest_ind \n",
    "\n",
    "#This is a two-sided test for the null hypothesis that 2 independent samples have identical average (expected) values. \n",
    "#This test assumes that the populations have identical variances by default.\n",
    "\n",
    "pval = ttest_ind(married_phd.MntFishProducts, the_rest.MntFishProducts).pvalue\n",
    "print(\"T-test p-value: \", pval)"
   ]
  },
  {
   "cell_type": "markdown",
   "id": "50e36dfe",
   "metadata": {},
   "source": [
    "Note: Since p-value is less than 0.05, I concluded that we reject the null hypothesis, meaning that their means are not only different, but the Married Phd's mean is lower than the rest as we can see from the graph."
   ]
  },
  {
   "cell_type": "markdown",
   "id": "dece7c5e",
   "metadata": {},
   "source": [
    "## Section 04: Data Visualization\n",
    "\n",
    "1. Which marketing campaign is most successful?\n",
    "2. What does the average customer look like for this company? \n",
    "3. Which products are performing best?\n",
    "4. Which channels are underperforming?"
   ]
  },
  {
   "cell_type": "markdown",
   "id": "0f20c038",
   "metadata": {},
   "source": [
    "#### Section 04-1: Which marketing campaign is most successful?\n",
    "\n",
    "The last marketing campaign is most successful"
   ]
  },
  {
   "cell_type": "code",
   "execution_count": 170,
   "id": "ed0f38a6",
   "metadata": {},
   "outputs": [
    {
     "data": {
      "image/png": "[encoded data removed]",
      "text/plain": [
       "<Figure size 432x288 with 1 Axes>"
      ]
     },
     "metadata": {
      "needs_background": "light"
     },
     "output_type": "display_data"
    }
   ],
   "source": [
    "new_df[[\"AcceptedCmp1\", \"AcceptedCmp2\",\"AcceptedCmp3\",\"AcceptedCmp4\",\"AcceptedCmp5\",\"Response\"]].sum().sort_values().plot.barh()\n",
    "plt.title(\"Which marketing campaign was most successful?\")\n",
    "plt.xlabel(\"Offer Accepted\");\n",
    "plt.ylabel(\"Campaign\")\n",
    "plt.savefig('Which marketing campaign was most successful.png', bbox_inches='tight')"
   ]
  },
  {
   "cell_type": "markdown",
   "id": "74ea6ec4",
   "metadata": {},
   "source": [
    "#### Section 04-2: What does the average customer look like for this company?\n",
    "\n",
    "An average customer...\n",
    "\n",
    "* has an annual income of 51700 dollars\n",
    "* had purchased 49 days ago\n",
    "* has spent a total of 606 dollars\n",
    "* has purchased 20 times\n",
    "* has an AOV of 26.8 dollars\n",
    "* became a customer in mid-June\n",
    "* became a customer on Thursday\n",
    "* spent most on wines(304 dollars) and then meat products(167 dollars)\n",
    "* spent least on fruit(26 dollars) and sweet products(27 dollars)"
   ]
  },
  {
   "cell_type": "code",
   "execution_count": 173,
   "id": "ba07e798",
   "metadata": {},
   "outputs": [
    {
     "data": {
      "text/plain": [
       "ID                      5590.726419\n",
       "Year_Birth              1968.901654\n",
       "Income                 51676.153330\n",
       "Kidhome                    0.444345\n",
       "Teenhome                   0.506482\n",
       "Recency                   49.104604\n",
       "MntWines                 303.995530\n",
       "MntFruits                 26.270451\n",
       "MntMeatProducts          166.916853\n",
       "MntFishProducts           37.523022\n",
       "MntSweetProducts          27.068842\n",
       "MntGoldProds              43.968708\n",
       "NumDealsPurchases          2.326777\n",
       "NumWebPurchases            4.087170\n",
       "NumCatalogPurchases        2.662494\n",
       "NumStorePurchases          5.794367\n",
       "NumWebVisitsMonth          5.319177\n",
       "AcceptedCmp3               0.072865\n",
       "AcceptedCmp4               0.074654\n",
       "AcceptedCmp5               0.072418\n",
       "AcceptedCmp1               0.064372\n",
       "AcceptedCmp2               0.013411\n",
       "Complain                   0.008941\n",
       "Z_CostContact              3.000000\n",
       "Z_Revenue                 11.000000\n",
       "Response                   0.149307\n",
       "Join_year               2013.027716\n",
       "Join_month                 6.465802\n",
       "Join_weekday               2.988824\n",
       "Minorhome                  0.950827\n",
       "Total_Mnt                605.743406\n",
       "Total_num_purchase        20.189987\n",
       "Total_accept               0.473849\n",
       "AOV                       26.842831\n",
       "dtype: float64"
      ]
     },
     "execution_count": 173,
     "metadata": {},
     "output_type": "execute_result"
    }
   ],
   "source": [
    "new_df.replace([np.inf, -np.inf], 0, inplace=True)\n",
    "\n",
    "new_df.mean()"
   ]
  },
  {
   "cell_type": "markdown",
   "id": "de14399a",
   "metadata": {},
   "source": [
    "#### Section 04-3: Which products are performing best?"
   ]
  },
  {
   "cell_type": "code",
   "execution_count": 175,
   "id": "dffe03d7",
   "metadata": {
    "scrolled": true
   },
   "outputs": [
    {
     "data": {
      "image/png": "[encoded data removed]",
      "text/plain": [
       "<Figure size 432x288 with 1 Axes>"
      ]
     },
     "metadata": {
      "needs_background": "light"
     },
     "output_type": "display_data"
    }
   ],
   "source": [
    "new_df[[\"MntWines\", \"MntFruits\",\"MntMeatProducts\",\"MntFishProducts\",\"MntSweetProducts\",\"MntGoldProds\"]].sum().sort_values().plot.barh()\n",
    "plt.title(\"Which products are performing best?\")\n",
    "plt.xlabel(\"Amount Purchased\");\n",
    "plt.ylabel(\"Product\")\n",
    "plt.savefig('Which products are performing best.png', bbox_inches='tight')"
   ]
  },
  {
   "cell_type": "markdown",
   "id": "a11de3d4",
   "metadata": {},
   "source": [
    "#### Section 04-3: Which channels are underperforming?\n",
    "\n",
    "Catalog is the most underperforming channel"
   ]
  },
  {
   "cell_type": "code",
   "execution_count": 187,
   "id": "f58ef44f",
   "metadata": {},
   "outputs": [
    {
     "data": {
      "image/png": "[encoded data removed]",
      "text/plain": [
       "<Figure size 432x288 with 1 Axes>"
      ]
     },
     "metadata": {
      "needs_background": "light"
     },
     "output_type": "display_data"
    }
   ],
   "source": [
    "new_df[[\"NumWebPurchases\", \"NumCatalogPurchases\", \"NumStorePurchases\"]].sum().sort_values().plot.barh()\n",
    "plt.title(\"Which marketing channels are underperforming?\")\n",
    "plt.xlabel(\"Total number of purchases\")\n",
    "plt.ylabel(\"Channel\");"
   ]
  },
  {
   "cell_type": "markdown",
   "id": "a3346124",
   "metadata": {},
   "source": [
    "## Further Investigation:\n",
    "\n",
    "Now that we know the last campaign is the most successful one, we can further investigate the differences in the customer characteristics and purchase behaviors(listed below) between the most successful campaigns: The last one & Campaigns 1-5\n",
    "\n",
    "* Characteristics: 'Year_Birth', 'Income', 'Minorhome', 'Country', 'Join_month', 'Join_weekday'\n",
    "* Purchase behaviors:\n",
    "    * Products: 'MntWines', 'MntFruits', 'MntMeatProducts', 'MntFishProducts', 'MntSweetProducts'\n",
    "    * Channel: 'NumWebPurchases', 'NumCatalogPurchases', 'NumStorePurchases'\n",
    "    * Total: 'Total_Mnt', 'Total_num_purchase', 'AOV'"
   ]
  },
  {
   "cell_type": "markdown",
   "id": "ed9aad37",
   "metadata": {},
   "source": [
    "Create 2 groups that accepted the offers from the last campaign and the campaign 1-5"
   ]
  },
  {
   "cell_type": "code",
   "execution_count": 177,
   "id": "5409a05f",
   "metadata": {},
   "outputs": [
    {
     "data": {
      "text/plain": [
       "(334, 2207)"
      ]
     },
     "execution_count": 177,
     "metadata": {},
     "output_type": "execute_result"
    }
   ],
   "source": [
    "cp_last = new_df[new_df.Response > 0]\n",
    "cp__the_rest = new_df[new_df.AcceptedCmp2 == 0]\n",
    "\n",
    "cp_last.shape[0], cp__the_rest.shape[0]"
   ]
  },
  {
   "cell_type": "markdown",
   "id": "8ba6c002",
   "metadata": {},
   "source": [
    "Remove the overlapping customers who accepted offers from both cp_last and cp__the_rest so that twe can see the clear differences between these two groups"
   ]
  },
  {
   "cell_type": "code",
   "execution_count": 179,
   "id": "c50e21b9",
   "metadata": {},
   "outputs": [
    {
     "data": {
      "text/plain": [
       "(334, 1893)"
      ]
     },
     "execution_count": 179,
     "metadata": {},
     "output_type": "execute_result"
    }
   ],
   "source": [
    "cp__the_rest2 = cp__the_rest\n",
    "for i in list(cp__the_rest.ID):\n",
    "    if i in list(cp_last.ID):\n",
    "        cp__the_rest2 = cp__the_rest2[cp__the_rest2.ID != i]\n",
    "        \n",
    "cp_last.shape[0], cp__the_rest2.shape[0]"
   ]
  },
  {
   "cell_type": "code",
   "execution_count": 181,
   "id": "d4eb202f",
   "metadata": {},
   "outputs": [],
   "source": [
    "cp_last = cp_last[['Year_Birth', 'Income', 'Minorhome', 'Join_month', 'Join_weekday',\n",
    "                  'MntWines', 'MntFruits', 'MntMeatProducts', 'MntFishProducts', 'MntSweetProducts',\n",
    "                  'NumWebPurchases', 'NumCatalogPurchases', 'NumStorePurchases',\n",
    "                  'Total_Mnt', 'Total_num_purchase', 'AOV']]\n",
    "cp__the_rest2 = cp__the_rest2[['Year_Birth', 'Income', 'Minorhome', 'Join_month', 'Join_weekday',\n",
    "                  'MntWines', 'MntFruits', 'MntMeatProducts', 'MntFishProducts', 'MntSweetProducts',\n",
    "                  'NumWebPurchases', 'NumCatalogPurchases', 'NumStorePurchases',\n",
    "                  'Total_Mnt', 'Total_num_purchase', 'AOV']]"
   ]
  },
  {
   "cell_type": "code",
   "execution_count": 191,
   "id": "ccd43c6b",
   "metadata": {
    "scrolled": true
   },
   "outputs": [
    {
     "data": {
      "text/plain": [
       "Year_Birth              1969.416168\n",
       "Income                 60029.407186\n",
       "Minorhome                  0.646707\n",
       "Join_month                 6.739521\n",
       "Join_weekday               2.700599\n",
       "MntWines                 502.703593\n",
       "MntFruits                 38.203593\n",
       "MntMeatProducts          294.353293\n",
       "MntFishProducts           52.050898\n",
       "MntSweetProducts          38.634731\n",
       "NumWebPurchases            5.071856\n",
       "NumCatalogPurchases        4.203593\n",
       "NumStorePurchases          6.095808\n",
       "Total_Mnt                987.392216\n",
       "Total_num_purchase        23.000000\n",
       "AOV                       41.829197\n",
       "dtype: float64"
      ]
     },
     "execution_count": 191,
     "metadata": {},
     "output_type": "execute_result"
    }
   ],
   "source": [
    "cp_last.mean()"
   ]
  },
  {
   "cell_type": "code",
   "execution_count": 192,
   "id": "677611ea",
   "metadata": {},
   "outputs": [
    {
     "data": {
      "text/plain": [
       "Year_Birth              1968.807184\n",
       "Income                 50129.525092\n",
       "Minorhome                  1.005283\n",
       "Join_month                 6.409403\n",
       "Join_weekday               3.032752\n",
       "MntWines                 265.836767\n",
       "MntFruits                 24.267829\n",
       "MntMeatProducts          144.358690\n",
       "MntFishProducts           34.996302\n",
       "MntSweetProducts          25.112520\n",
       "NumWebPurchases            3.918119\n",
       "NumCatalogPurchases        2.384046\n",
       "NumStorePurchases          5.728473\n",
       "Total_Mnt                535.491812\n",
       "Total_num_purchase        19.681986\n",
       "AOV                       24.083059\n",
       "dtype: float64"
      ]
     },
     "execution_count": 192,
     "metadata": {},
     "output_type": "execute_result"
    }
   ],
   "source": [
    "cp__the_rest2.mean()"
   ]
  },
  {
   "cell_type": "markdown",
   "id": "68aa6a6d",
   "metadata": {},
   "source": [
    "#### Visualize the Differences"
   ]
  },
  {
   "cell_type": "code",
   "execution_count": 194,
   "id": "6f8cfc82",
   "metadata": {},
   "outputs": [
    {
     "data": {
      "image/png": "[encoded data removed]",
      "text/plain": [
       "<Figure size 648x504 with 1 Axes>"
      ]
     },
     "metadata": {
      "needs_background": "light"
     },
     "output_type": "display_data"
    }
   ],
   "source": [
    "plt.figure(figsize = (9, 7))\n",
    "value = pd.DataFrame((((cp_last.mean()) - cp__the_rest2.mean()) / cp__the_rest2.mean())*100)\n",
    "value.dropna(inplace = True)\n",
    "value.sort_values(by=0,inplace = True)\n",
    "value['positive'] = value[0] >=0\n",
    "value[0].plot(kind='barh', color=value.positive.map({True: 'navy', False: 'orange'}))\n",
    "plt.title(\"Customer Characteristics Comparison - The last campaign vs Campaign 1-5\")\n",
    "plt.xlabel(\"Difference in %\")\n",
    "plt.ylabel(\"Characteristics\")\n",
    "plt.savefig('Customer Characteristics Comparison - The last campaign vs Campaign 1-5', bbox_inches='tight');"
   ]
  },
  {
   "cell_type": "code",
   "execution_count": 196,
   "id": "1993f3b5",
   "metadata": {},
   "outputs": [],
   "source": [
    "new_df2 = new_df[['Year_Birth', 'Income', 'Minorhome', 'Join_month', 'Join_weekday',\n",
    "                  'MntWines', 'MntFruits', 'MntMeatProducts', 'MntFishProducts', 'MntSweetProducts',\n",
    "                  'NumWebPurchases', 'NumCatalogPurchases', 'NumStorePurchases',\n",
    "                  'Total_Mnt', 'Total_num_purchase', 'AOV']]"
   ]
  },
  {
   "cell_type": "code",
   "execution_count": 197,
   "id": "ee17abae",
   "metadata": {},
   "outputs": [
    {
     "data": {
      "text/plain": [
       "Year_Birth              1968.901654\n",
       "Income                 51676.153330\n",
       "Minorhome                  0.950827\n",
       "Join_month                 6.465802\n",
       "Join_weekday               2.988824\n",
       "MntWines                 303.995530\n",
       "MntFruits                 26.270451\n",
       "MntMeatProducts          166.916853\n",
       "MntFishProducts           37.523022\n",
       "MntSweetProducts          27.068842\n",
       "NumWebPurchases            4.087170\n",
       "NumCatalogPurchases        2.662494\n",
       "NumStorePurchases          5.794367\n",
       "Total_Mnt                605.743406\n",
       "Total_num_purchase        20.189987\n",
       "AOV                       26.842831\n",
       "dtype: float64"
      ]
     },
     "execution_count": 197,
     "metadata": {},
     "output_type": "execute_result"
    }
   ],
   "source": [
    "new_df2.mean()"
   ]
  },
  {
   "cell_type": "markdown",
   "id": "9f68cfa2",
   "metadata": {},
   "source": [
    "#### Visualize the Differences"
   ]
  },
  {
   "cell_type": "code",
   "execution_count": 195,
   "id": "099dda74",
   "metadata": {
    "scrolled": true
   },
   "outputs": [
    {
     "data": {
      "image/png": "[encoded data removed]",
      "text/plain": [
       "<Figure size 648x504 with 1 Axes>"
      ]
     },
     "metadata": {
      "needs_background": "light"
     },
     "output_type": "display_data"
    }
   ],
   "source": [
    "plt.figure(figsize = (9, 7))\n",
    "value1 = pd.DataFrame((((cp_last.mean()) - new_df2.mean()) / new_df2.mean())*100)\n",
    "value1.dropna(inplace = True)\n",
    "value1.sort_values(by=0,inplace = True)\n",
    "value1['positive'] = value1[0] >=0\n",
    "value1[0].plot(kind='barh', color=value1.positive.map({True: 'navy', False: 'orange'}))\n",
    "plt.title(\"Customer Characteristics Comparison - Customer in last campaign vs Average customer\")\n",
    "plt.xlabel(\"Difference in %\")\n",
    "plt.ylabel(\"Characteristics\");"
   ]
  },
  {
   "cell_type": "code",
   "execution_count": 199,
   "id": "df6401b4",
   "metadata": {},
   "outputs": [
    {
     "data": {
      "image/png": "[encoded data removed]",
      "text/plain": [
       "<Figure size 864x648 with 2 Axes>"
      ]
     },
     "metadata": {
      "needs_background": "light"
     },
     "output_type": "display_data"
    }
   ],
   "source": [
    "#Select columns to plot\n",
    "\n",
    "new_df2 = new_df[new_df.AOV <= (new_df.AOV.mean()+3*new_df.AOV.std())]\n",
    "new_df2.replace([np.inf, -np.inf], 0, inplace=True)\n",
    "new_df2 = new_df2[new_df2.Total_num_purchase <= (new_df2.Total_num_purchase.mean()+3*new_df2.Total_num_purchase.std())]\n",
    "new_df2 = new_df2[new_df2.Total_Mnt <= (new_df2.Total_Mnt.mean()+3*new_df2.Total_Mnt.std())]\n",
    "\n",
    "df_to_plot = new_df2[['Income', 'Total_Mnt','Total_num_purchase', 'AOV']]\n",
    "df_to_plot.rename(columns={'Total_num_purchase':'Total_Purchases'}, inplace=True)\n",
    "\n",
    "#Create heatmap\n",
    "\n",
    "plt.figure(figsize = (12, 9))\n",
    "s = sns.heatmap(df_to_plot.corr(),  annot = True,cmap = 'RdBu',vmin = -1, vmax = 1,center = 0)\n",
    "s.set_yticklabels(s.get_yticklabels(), rotation = 0, fontsize = 12)\n",
    "s.set_xticklabels(s.get_xticklabels(), rotation = 90, fontsize = 12)\n",
    "bottom, top = s.get_ylim()\n",
    "s.set_ylim(bottom + 0.5, top - 0.5)\n",
    "plt.title(\"Correlation Heatmap\")\n",
    "plt.savefig('heatmap2.png', bbox_inches='tight')\n",
    "plt.show()"
   ]
  },
  {
   "cell_type": "code",
   "execution_count": 200,
   "id": "fe480f38",
   "metadata": {},
   "outputs": [
    {
     "data": {
      "text/plain": [
       "Index(['ID', 'Year_Birth', 'Education', 'Marital_Status', 'Income', 'Kidhome',\n",
       "       'Teenhome', 'Dt_Customer', 'Recency', 'MntWines', 'MntFruits',\n",
       "       'MntMeatProducts', 'MntFishProducts', 'MntSweetProducts',\n",
       "       'MntGoldProds', 'NumDealsPurchases', 'NumWebPurchases',\n",
       "       'NumCatalogPurchases', 'NumStorePurchases', 'NumWebVisitsMonth',\n",
       "       'AcceptedCmp3', 'AcceptedCmp4', 'AcceptedCmp5', 'AcceptedCmp1',\n",
       "       'AcceptedCmp2', 'Complain', 'Z_CostContact', 'Z_Revenue', 'Response',\n",
       "       'Join_year', 'Join_month', 'Join_weekday', 'Minorhome', 'Total_Mnt',\n",
       "       'Total_num_purchase', 'Total_accept', 'AOV'],\n",
       "      dtype='object')"
      ]
     },
     "execution_count": 200,
     "metadata": {},
     "output_type": "execute_result"
    }
   ],
   "source": [
    "new_df.columns"
   ]
  },
  {
   "cell_type": "code",
   "execution_count": 201,
   "id": "8e1c055c",
   "metadata": {},
   "outputs": [
    {
     "name": "stdout",
     "output_type": "stream",
     "text": [
      "Mean Absolute Error: 0.44477313633786847\n",
      "Mean Squared Error: 0.612359090124851\n",
      "Root Mean Squared Error: 0.7825337629296585\n"
     ]
    }
   ],
   "source": [
    "#Drop ID as everyone has unique ID\n",
    "rd_df = new_df.drop(columns=['ID', 'Dt_Customer','AcceptedCmp3', 'AcceptedCmp4', 'AcceptedCmp5', 'AcceptedCmp1',\n",
    "       'AcceptedCmp2', 'Response'])\n",
    "rd_df.replace([np.inf, -np.inf], 0, inplace=True)\n",
    "\n",
    "#One-hot encoding\n",
    "rd_df = pd.get_dummies(rd_df)\n",
    "\n",
    "# Import train_test_split function\n",
    "from sklearn.model_selection import train_test_split\n",
    "\n",
    "X=rd_df.drop(columns=['Total_accept'])  # Features\n",
    "y=rd_df['Total_accept']  # Labels\n",
    "\n",
    "# Split dataset into training set (70%) and test set (30%)\n",
    "X_train, X_test, y_train, y_test = train_test_split(X, y, test_size=0.3) \n",
    "\n",
    "#Import Random Forest Model\n",
    "from sklearn.ensemble import RandomForestRegressor\n",
    "\n",
    "#Create a Random Forest Classifier with 100 trees\n",
    "rg2 = RandomForestRegressor(n_estimators=200, n_jobs=-1)\n",
    "\n",
    "#Train the model using the training sets y_pred=clf.predict(X_test)\n",
    "rg2.fit(X_train, y_train)\n",
    "\n",
    "y_pred=rg2.predict(X_test)\n",
    "\n",
    "from sklearn import metrics\n",
    "\n",
    "print('Mean Absolute Error:', metrics.mean_absolute_error(y_test, y_pred))\n",
    "print('Mean Squared Error:', metrics.mean_squared_error(y_test, y_pred))\n",
    "print('Root Mean Squared Error:', np.sqrt(metrics.mean_squared_error(y_test, y_pred)))"
   ]
  },
  {
   "cell_type": "code",
   "execution_count": 202,
   "id": "fc9b0af6",
   "metadata": {},
   "outputs": [
    {
     "name": "stdout",
     "output_type": "stream",
     "text": [
      "MntWines vs Total_accept:\n",
      "Pearson correlation (r):  0.4787761368904706\n",
      "Pearson p-value:  1.538453690271273e-128\n",
      " \n",
      "MntMeatProducts vs Total_accept:\n",
      "Pearson correlation (r):  0.30103342502969976\n",
      "Pearson p-value:  4.4065093290159594e-48\n",
      " \n",
      "MntGoldProds vs Total_accept:\n",
      "Pearson correlation (r):  0.190680066585235\n",
      "Pearson p-value:  9.275051767778576e-20\n",
      " \n",
      "MntFishProducts vs Total_accept:\n",
      "Pearson correlation (r):  0.15914618281257267\n",
      "Pearson p-value:  3.697344094817059e-14\n",
      " \n",
      "MntFruits vs Total_accept:\n",
      "Pearson correlation (r):  0.14976326660144543\n",
      "Pearson p-value:  1.082631664111806e-12\n",
      " \n",
      "MntSweetProducts vs Total_accept:\n",
      "Pearson correlation (r):  0.178089851831021\n",
      "Pearson p-value:  2.1328375413163002e-17\n",
      " \n"
     ]
    }
   ],
   "source": [
    "from scipy.stats import pearsonr\n",
    "\n",
    "list_ = ['MntWines', 'MntMeatProducts','MntGoldProds', 'MntFishProducts', 'MntFruits',  'MntSweetProducts']\n",
    "for i in list_:\n",
    "    r, p_value  =  pearsonr(x=new_df[i], y=new_df['Total_accept'])\n",
    "    print(i, \"vs Total_accept:\")\n",
    "    # print results\n",
    "    print('Pearson correlation (r): ', r)\n",
    "    print('Pearson p-value: ', p_value)\n",
    "    print(\" \")"
   ]
  },
  {
   "cell_type": "markdown",
   "id": "e9fb1aa0",
   "metadata": {},
   "source": [
    "#### Find feature importance scores"
   ]
  },
  {
   "cell_type": "code",
   "execution_count": 204,
   "id": "7e1ca484",
   "metadata": {},
   "outputs": [
    {
     "data": {
      "image/png": "[encoded data removed]",
      "text/plain": [
       "<Figure size 504x504 with 1 Axes>"
      ]
     },
     "metadata": {
      "needs_background": "light"
     },
     "output_type": "display_data"
    }
   ],
   "source": [
    "import pandas as pd\n",
    "feature_imp = pd.Series(rg2.feature_importances_, \n",
    "        index = list(X.columns)).sort_values(ascending=False)\n",
    "\n",
    "feature_imp = feature_imp[:10]\n",
    "\n",
    "# Creating a bar plot\n",
    "plt.figure(figsize = (7, 7))\n",
    "sns.barplot(x=feature_imp[:10], y=feature_imp.index[:10])\n",
    "# Add labels to your graph\n",
    "plt.xlabel('Feature Importance Score')\n",
    "plt.ylabel('Factors')\n",
    "plt.title(\"Top 10 Important Factors of Accepting Campaign Offers\")\n",
    "plt.savefig('important_feautres.png', bbox_inches='tight')\n",
    "plt.show()"
   ]
  },
  {
   "cell_type": "markdown",
   "id": "131fcf69",
   "metadata": {},
   "source": [
    "## Section 05: CMO Recommendations\n",
    "\n",
    "### Summaries\n",
    "\n",
    "* The last campaign\n",
    "    * Performed twice as good as the previous campaigns\n",
    "    * Attracted more valuable customers in terms of AOV, total amount spent, and the total number of purchases, compared to the customers who were attracted by the previous campaigns\n",
    "    * Customers spent nearly two times more money on meat products and wines compared to the customers in the previous campaigns\n",
    "    * Customers purchased more evenly through stores, websites, and catalogs, whereas the customers in the previous campaigns mostly purchased through stores and websites.\n",
    "\n",
    "\n",
    "* Most customers purchased through physical stores, where they tended to spend more per purchase. The reason might be that the customers had more impulsive purchases when they saw other similar products in stores.\n",
    "\n",
    "\n",
    "* People having kids at home are less valuable customers as they...\n",
    "    * tend to purchase less\n",
    "    * tend to have a higher number of purchases made with a discount\n",
    "    \n",
    "    \n",
    "* The average customer...\n",
    "    * became a customer on Thursday\n",
    "    * became a customer in Mid-June\n",
    "\n",
    "\n",
    "### Actionable Data-Driven Solutions\n",
    "\n",
    "\n",
    "#### On Acquisition:\n",
    "\n",
    "\n",
    "1. Keep using the same marketing techniques in the last campaign, and with a focus on promoting meat products and wines\n",
    "\n",
    "\n",
    "\n",
    "2. Try to have a brand discount day on Thursday or a brand discount month in June to attract new customers\n",
    "\n",
    "\n",
    "#### On Increasing revenue:\n",
    "\n",
    "\n",
    "1. Have marketing campaigns to convert customers who shop mostly on a website or catalog to in-store purchasers as most in-store purchases have high average order volume\n",
    "\n",
    "\n",
    "2. Build a loyalty program to make high-income customers loyal as long as possible"
   ]
  },
  {
   "cell_type": "code",
   "execution_count": null,
   "id": "fd64755b",
   "metadata": {},
   "outputs": [],
   "source": []
  }
 ],
 "metadata": {
  "kernelspec": {
   "display_name": "Python 3",
   "language": "python",
   "name": "python3"
  },
  "language_info": {
   "codemirror_mode": {
    "name": "ipython",
    "version": 3
   },
   "file_extension": ".py",
   "mimetype": "text/x-python",
   "name": "python",
   "nbconvert_exporter": "python",
   "pygments_lexer": "ipython3",
   "version": "3.8.8"
  }
 },
 "nbformat": 4,
 "nbformat_minor": 5
}
